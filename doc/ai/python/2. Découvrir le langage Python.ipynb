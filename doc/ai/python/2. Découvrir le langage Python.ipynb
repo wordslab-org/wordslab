{
 "cells": [
  {
   "cell_type": "markdown",
   "metadata": {},
   "source": [
    "# Découvrir le langage Python"
   ]
  },
  {
   "cell_type": "markdown",
   "metadata": {},
   "source": [
    "## Caractéristiques du langage\n",
    "\n",
    "Python est un **langage interprété**. Un programme Python n'est pas converti en langage machine comme un tout : les lignes du programme sont analysées et exécutées pas à pas, l'une après l'autre. \n",
    "\n",
    "Il est donc possible d'écrire un programme Python progressivement ligne par ligne, en examinant le résultat de l'exécution à chaque étape, et en corrigeant le résultat de la ligne précédente si nécessaire avant de passer à la suivante."
   ]
  },
  {
   "cell_type": "code",
   "execution_count": 1,
   "metadata": {},
   "outputs": [
    {
     "data": {
      "text/plain": [
       "3"
      ]
     },
     "execution_count": 1,
     "metadata": {},
     "output_type": "execute_result"
    }
   ],
   "source": [
    "x = 1\n",
    "y = 2\n",
    "x + y"
   ]
  },
  {
   "cell_type": "markdown",
   "metadata": {},
   "source": [
    "Ce mode de **programmation interactive** rend le langage Python bien adapté aux tâches qui privilégient l'exploration progressive plutôt que la conception préalable. Il est particulièrement populaire dans les deux domaines suivants :\n",
    "- scripts d'administration de machines\n",
    "- **nettoyage et analyse de données**\n",
    "\n",
    "La syntaxe du langage Python est **optimisée pour la lisibilité** de programmes courts : \n",
    "- pas de mot clé pour déclarer les variables\n",
    "- pas de caractère ; pour séparer les instructions\n",
    "- pas de caractères { } pour délimiter des blocs de code\n",
    "\n",
    "En Python, la **mise en page du code** fait partie de la syntaxe :\n",
    "- les instructions sont séparées par des sauts de ligne\n",
    "- les espaces en début de ligne sont utilisés pour aligner les blocs de code\n",
    "\n",
    "Par exemple, on définit et utilise une fonction de la manière suivante :"
   ]
  },
  {
   "cell_type": "code",
   "execution_count": 2,
   "metadata": {},
   "outputs": [
    {
     "data": {
      "text/plain": [
       "3"
      ]
     },
     "execution_count": 2,
     "metadata": {},
     "output_type": "execute_result"
    }
   ],
   "source": [
    "# Fonction d'une fonction addition\n",
    "def add(x, y):\n",
    "    result = x + y\n",
    "    return result\n",
    "\n",
    "# Appel de la fonction\n",
    "add(1,2)"
   ]
  },
  {
   "cell_type": "markdown",
   "metadata": {},
   "source": [
    "NB : On peut ajouter des **commentaires** pour documenter son code : commencer chaque ligne de commentaire par le caractère **#**."
   ]
  },
  {
   "cell_type": "markdown",
   "metadata": {},
   "source": [
    "## Types de données\n",
    "\n",
    "Python met en oeuvre une **gestion dynamique des types** de données dans chaque variable :\n",
    "- il n'est pas nécessaire de déclarer une variable avant de l'utiliser\n",
    "- une même variable peut contenir un nombre dans la première ligne du programme, puis une chaîne de caractères dans la deuxième ligne du programme\n",
    "- on peut interroger le type d'une variable à l'aide de la fonction **type()**"
   ]
  },
  {
   "cell_type": "code",
   "execution_count": 3,
   "metadata": {},
   "outputs": [
    {
     "data": {
      "text/plain": [
       "int"
      ]
     },
     "execution_count": 3,
     "metadata": {},
     "output_type": "execute_result"
    }
   ],
   "source": [
    "x=10\n",
    "type(x)"
   ]
  },
  {
   "cell_type": "code",
   "execution_count": 4,
   "metadata": {},
   "outputs": [
    {
     "data": {
      "text/plain": [
       "float"
      ]
     },
     "execution_count": 4,
     "metadata": {},
     "output_type": "execute_result"
    }
   ],
   "source": [
    "x=3.14\n",
    "type(x)"
   ]
  },
  {
   "cell_type": "code",
   "execution_count": 5,
   "metadata": {},
   "outputs": [
    {
     "data": {
      "text/plain": [
       "str"
      ]
     },
     "execution_count": 5,
     "metadata": {},
     "output_type": "execute_result"
    }
   ],
   "source": [
    "x=\"hello\"\n",
    "x='salut'\n",
    "type(x)"
   ]
  },
  {
   "cell_type": "code",
   "execution_count": 6,
   "metadata": {},
   "outputs": [
    {
     "data": {
      "text/plain": [
       "bool"
      ]
     },
     "execution_count": 6,
     "metadata": {},
     "output_type": "execute_result"
    }
   ],
   "source": [
    "x=True\n",
    "type(x)"
   ]
  },
  {
   "cell_type": "markdown",
   "metadata": {},
   "source": [
    "L'absence de valeur est représentée par la valeur **None** :"
   ]
  },
  {
   "cell_type": "code",
   "execution_count": 7,
   "metadata": {},
   "outputs": [
    {
     "data": {
      "text/plain": [
       "NoneType"
      ]
     },
     "execution_count": 7,
     "metadata": {},
     "output_type": "execute_result"
    }
   ],
   "source": [
    "z = None\n",
    "type(z)"
   ]
  },
  {
   "cell_type": "markdown",
   "metadata": {},
   "source": [
    "## Fonctions\n",
    "\n",
    "Le mot clé **def** permet de définir une fonction, il est suivi du nom de la fonction et de la liste des paramètres. \n",
    "\n",
    "Le **caractère :** suivi d'un saut de ligne délimite le bloc qui contient le code de la fonction, à indenter d'un niveau.\n",
    "\n",
    "Le mot clé **return** permet de renvoyer le résultat du traitement à l'appelant :"
   ]
  },
  {
   "cell_type": "code",
   "execution_count": 8,
   "metadata": {},
   "outputs": [
    {
     "data": {
      "text/plain": [
       "6"
      ]
     },
     "execution_count": 8,
     "metadata": {},
     "output_type": "execute_result"
    }
   ],
   "source": [
    "def add(x, y, z):\n",
    "    return x + y + z\n",
    "\n",
    "add(1,2,3)"
   ]
  },
  {
   "cell_type": "markdown",
   "metadata": {},
   "source": [
    "Une fonction sans mot clé return retourne la valeur None :"
   ]
  },
  {
   "cell_type": "code",
   "execution_count": 9,
   "metadata": {},
   "outputs": [
    {
     "name": "stdout",
     "output_type": "stream",
     "text": [
      "...\n",
      "None\n"
     ]
    }
   ],
   "source": [
    "def nothing():\n",
    "    print(\"...\")\n",
    "    \n",
    "result = nothing()\n",
    "print(result)"
   ]
  },
  {
   "cell_type": "markdown",
   "metadata": {},
   "source": [
    "On peut définir des **valeurs par défaut** pour les paramètres des fonctions Python. Ces paramètres deviennent alors **optionnels** lors de l'appel de la fonction.\n",
    "\n",
    "Seuls les derniers paramètres de la liste peuvent être optionnels."
   ]
  },
  {
   "cell_type": "code",
   "execution_count": 10,
   "metadata": {},
   "outputs": [
    {
     "name": "stdout",
     "output_type": "stream",
     "text": [
      "6\n",
      "3\n"
     ]
    }
   ],
   "source": [
    "def add(x, y, z=0):\n",
    "    return x + y + z\n",
    "\n",
    "print(add(1,2,3))\n",
    "print(add(1,2))"
   ]
  },
  {
   "cell_type": "markdown",
   "metadata": {},
   "source": [
    "Lorsque plusieurs paramètres sont optionnels, on peut **nommer explicitement les paramètres** lors de l'appel pour leur donner une valeur :"
   ]
  },
  {
   "cell_type": "code",
   "execution_count": 11,
   "metadata": {},
   "outputs": [
    {
     "data": {
      "text/plain": [
       "7"
      ]
     },
     "execution_count": 11,
     "metadata": {},
     "output_type": "execute_result"
    }
   ],
   "source": [
    "def operation(x, y=0, z=0):\n",
    "    return x + 2*y + 3*z\n",
    "\n",
    "operation(1, z=2)"
   ]
  },
  {
   "cell_type": "markdown",
   "metadata": {},
   "source": [
    "Une **fonction est un type de données** comme un autre qu'on peut assigner à une variable, puis passer comme paramètre à une autre fonction :"
   ]
  },
  {
   "cell_type": "code",
   "execution_count": 12,
   "metadata": {},
   "outputs": [
    {
     "data": {
      "text/plain": [
       "function"
      ]
     },
     "execution_count": 12,
     "metadata": {},
     "output_type": "execute_result"
    }
   ],
   "source": [
    "def execute(operation, x, y):\n",
    "    return operation(x,y)\n",
    "\n",
    "def add(x,y):\n",
    "    return x + y\n",
    "\n",
    "def sub(x,y):\n",
    "    return x - y\n",
    "\n",
    "type(add)"
   ]
  },
  {
   "cell_type": "code",
   "execution_count": 13,
   "metadata": {},
   "outputs": [
    {
     "data": {
      "text/plain": [
       "function"
      ]
     },
     "execution_count": 13,
     "metadata": {},
     "output_type": "execute_result"
    }
   ],
   "source": [
    "op1 = add\n",
    "op2 = sub\n",
    "\n",
    "type(op1)"
   ]
  },
  {
   "cell_type": "code",
   "execution_count": 14,
   "metadata": {},
   "outputs": [
    {
     "name": "stdout",
     "output_type": "stream",
     "text": [
      "3\n",
      "1\n"
     ]
    }
   ],
   "source": [
    "print(execute(op1, 2, 1))\n",
    "print(execute(op2, 2, 1))"
   ]
  },
  {
   "cell_type": "markdown",
   "metadata": {},
   "source": [
    "## Conditions\n",
    "\n",
    "Le **mot clé if**, suivi d'une **condition**, permet de contrôler l'exécution du bloc de code qui suit (bloc à faire précéder du caractère : et à indenter).\n",
    "\n",
    "La condition peut être :\n",
    "- un test d'égalité avec l'opérateur **==**\n",
    "- une comparaison avec les opérateurs **<, >, <=, >=**\n",
    "- un test du type d'une variable avec l'opérateur **is**\n",
    "- une combinaison logique de conditions avec les opérateurs **or, and, not**\n",
    "\n",
    "Les **parenthèses optionnelles** permettent de grouper et prioriser l'évaluation des opérateurs dans les conditions.\n",
    "\n",
    "On peut enchainer une série de **conditions exclusives** les unes des autres par la séquence : \n",
    "- **if**  (condition):\n",
    "- **elif**  (condition):\n",
    "- **else**:"
   ]
  },
  {
   "cell_type": "code",
   "execution_count": 15,
   "metadata": {},
   "outputs": [
    {
     "name": "stdout",
     "output_type": "stream",
     "text": [
      "rien\n",
      "positif\n",
      "faux\n"
     ]
    }
   ],
   "source": [
    "def test(valeur):\n",
    "    \n",
    "    if valeur == None:\n",
    "        return \"rien\"\n",
    "    \n",
    "    elif type(valeur) is int:\n",
    "        \n",
    "        if ((valeur > 0) or (valeur == 0)):\n",
    "            return \"positif\"\n",
    "        else:\n",
    "            return \"négatif\"\n",
    "        \n",
    "    elif type(valeur) is bool:\n",
    "        \n",
    "        if (not valeur):\n",
    "            return \"faux\"\n",
    "        else:\n",
    "            return \"vrai\"\n",
    "        \n",
    "print(test(None))\n",
    "print(test(1))\n",
    "print(test(False))"
   ]
  },
  {
   "cell_type": "markdown",
   "metadata": {},
   "source": [
    "## Collections"
   ]
  },
  {
   "cell_type": "markdown",
   "metadata": {},
   "source": [
    "Trois types de séries de valeurs sont définis par le langage Python."
   ]
  },
  {
   "cell_type": "markdown",
   "metadata": {},
   "source": [
    "### Tuple\n",
    "\n",
    "Un **tuple** est une collection de valeurs :\n",
    "- **ordonnée**\n",
    "- **non modifiable**\n",
    "- délimitée par des **parenthèses**\n",
    "\n",
    "Les valeurs sont séparées par des virgules et peuvent être de type différent."
   ]
  },
  {
   "cell_type": "code",
   "execution_count": 16,
   "metadata": {},
   "outputs": [
    {
     "data": {
      "text/plain": [
       "tuple"
      ]
     },
     "execution_count": 16,
     "metadata": {},
     "output_type": "execute_result"
    }
   ],
   "source": [
    "coll = (1,\"a\",True)\n",
    "type(coll)"
   ]
  },
  {
   "cell_type": "markdown",
   "metadata": {},
   "source": [
    "On accède à un élément d'une collection en le désignant par **son index**. Le premier élément a l'**index 0**, le deuxième élément l'index 1, etc."
   ]
  },
  {
   "cell_type": "code",
   "execution_count": 17,
   "metadata": {},
   "outputs": [
    {
     "name": "stdout",
     "output_type": "stream",
     "text": [
      "1\n",
      "True\n"
     ]
    }
   ],
   "source": [
    "print(coll[0])\n",
    "print(coll[2])"
   ]
  },
  {
   "cell_type": "markdown",
   "metadata": {},
   "source": [
    "Un tuple est \"non modifiable\" dans le sens où :\n",
    "- on ne peut lui ajouter ou supprimer un élément\n",
    "- on ne peut modifier la valeur d'un élément existant"
   ]
  },
  {
   "cell_type": "code",
   "execution_count": 18,
   "metadata": {},
   "outputs": [
    {
     "ename": "TypeError",
     "evalue": "'tuple' object does not support item assignment",
     "output_type": "error",
     "traceback": [
      "\u001b[1;31m---------------------------------------------------------------------------\u001b[0m",
      "\u001b[1;31mTypeError\u001b[0m                                 Traceback (most recent call last)",
      "\u001b[1;32m<ipython-input-18-2c61cb029357>\u001b[0m in \u001b[0;36m<module>\u001b[1;34m()\u001b[0m\n\u001b[1;32m----> 1\u001b[1;33m \u001b[0mcoll\u001b[0m\u001b[1;33m[\u001b[0m\u001b[1;36m1\u001b[0m\u001b[1;33m]\u001b[0m \u001b[1;33m=\u001b[0m \u001b[1;34m\"b\"\u001b[0m\u001b[1;33m\u001b[0m\u001b[0m\n\u001b[0m",
      "\u001b[1;31mTypeError\u001b[0m: 'tuple' object does not support item assignment"
     ]
    }
   ],
   "source": [
    "coll[1] = \"b\""
   ]
  },
  {
   "cell_type": "markdown",
   "metadata": {},
   "source": [
    "La fonction **len()** permet de mesurer la longueur d'une collection :"
   ]
  },
  {
   "cell_type": "code",
   "execution_count": 19,
   "metadata": {},
   "outputs": [
    {
     "data": {
      "text/plain": [
       "3"
      ]
     },
     "execution_count": 19,
     "metadata": {},
     "output_type": "execute_result"
    }
   ],
   "source": [
    "len(coll)"
   ]
  },
  {
   "cell_type": "markdown",
   "metadata": {},
   "source": [
    "L'opérateur **in** permet de tester la présence d'une valeur dans une collection :"
   ]
  },
  {
   "cell_type": "code",
   "execution_count": 28,
   "metadata": {},
   "outputs": [
    {
     "name": "stdout",
     "output_type": "stream",
     "text": [
      "True\n",
      "False\n"
     ]
    }
   ],
   "source": [
    "print(\"a\" in coll)\n",
    "print(\"b\" in coll)"
   ]
  },
  {
   "cell_type": "markdown",
   "metadata": {},
   "source": [
    "### List\n",
    "\n",
    "Une **liste** est une collection de valeurs :\n",
    "- **ordonnée**\n",
    "- **modifiable**\n",
    "- délimitée par des **crochets**"
   ]
  },
  {
   "cell_type": "code",
   "execution_count": 20,
   "metadata": {},
   "outputs": [
    {
     "data": {
      "text/plain": [
       "list"
      ]
     },
     "execution_count": 20,
     "metadata": {},
     "output_type": "execute_result"
    }
   ],
   "source": [
    "coll = [1,\"a\",True]\n",
    "type(coll)"
   ]
  },
  {
   "cell_type": "markdown",
   "metadata": {},
   "source": [
    "On peut ajouter de nouvelles valeurs à la fin d'une liste à l'aide de la fonction **append()**.\n",
    "\n",
    "On peut **modifier la valeur** d'un élément de la liste en le désignant par son index."
   ]
  },
  {
   "cell_type": "code",
   "execution_count": 21,
   "metadata": {},
   "outputs": [
    {
     "name": "stdout",
     "output_type": "stream",
     "text": [
      "3.14\n",
      "0\n"
     ]
    }
   ],
   "source": [
    "coll.append(3.14)\n",
    "print(coll[3])\n",
    "\n",
    "coll[3] = 0\n",
    "print(coll[3])"
   ]
  },
  {
   "cell_type": "markdown",
   "metadata": {},
   "source": [
    "L'opérateur + assemble deux listes, l'opérateur * répète une liste."
   ]
  },
  {
   "cell_type": "code",
   "execution_count": 26,
   "metadata": {},
   "outputs": [
    {
     "name": "stdout",
     "output_type": "stream",
     "text": [
      "[1, 2, 3, 4]\n",
      "[1, 2, 1, 2]\n"
     ]
    }
   ],
   "source": [
    "print([1,2] + [3,4])\n",
    "print([1,2] * 2)"
   ]
  },
  {
   "cell_type": "markdown",
   "metadata": {},
   "source": [
    "### Dictionary\n",
    "\n",
    "Un **dictionnaire** est une collection de **couples (clé, valeur)** :\n",
    "- **non ordonnée**\n",
    "- **modifiable**\n",
    "- délimitée par des **accolades**\n",
    "\n",
    "Ses valeurs ne peuvent être accédées à l'aide d'un index, mais sont **identifiées par la clé qui leur est associée**."
   ]
  },
  {
   "cell_type": "code",
   "execution_count": 48,
   "metadata": {},
   "outputs": [
    {
     "name": "stdout",
     "output_type": "stream",
     "text": [
      "Jean\n",
      "40\n"
     ]
    }
   ],
   "source": [
    "personne = { \"prénom\" : \"Jean\", \"nom\" : \"Dupont\", \"age\" : 40 }\n",
    "\n",
    "print(personne[\"prénom\"])\n",
    "print(personne[\"age\"])"
   ]
  },
  {
   "cell_type": "code",
   "execution_count": 51,
   "metadata": {},
   "outputs": [
    {
     "name": "stdout",
     "output_type": "stream",
     "text": [
      "41\n"
     ]
    }
   ],
   "source": [
    "personne[\"age\"] = 41\n",
    "\n",
    "print(personne[\"age\"])"
   ]
  },
  {
   "cell_type": "markdown",
   "metadata": {},
   "source": [
    "On peut parcourir indépendamment :\n",
    "- la liste des clés : accès direct au dictionnaire\n",
    "- la liste des valeurs : à l'aide de la fonction **values()**\n",
    "- la liste des couples clé - valeur : à l'aide de la fonction **items()**"
   ]
  },
  {
   "cell_type": "code",
   "execution_count": 66,
   "metadata": {},
   "outputs": [
    {
     "name": "stdout",
     "output_type": "stream",
     "text": [
      "- prénom\n",
      "- nom\n",
      "- age\n",
      "=> Jean\n",
      "=> Dupont\n",
      "=> 41\n",
      "prénom => Jean\n",
      "nom => Dupont\n",
      "age => 41\n"
     ]
    }
   ],
   "source": [
    "for clé in personne:\n",
    "    print(\"- \" + clé)\n",
    "    \n",
    "for valeur in personne.values():\n",
    "    print(\"=> \" + str(valeur))\n",
    "    \n",
    "for clé, valeur in personne.items():\n",
    "    print(clé + \" => \" + str(valeur))"
   ]
  },
  {
   "cell_type": "markdown",
   "metadata": {},
   "source": [
    "### Unpacking\n",
    "\n",
    "Python permet de récupérer une liste de valeurs dans une liste de variables :"
   ]
  },
  {
   "cell_type": "code",
   "execution_count": 67,
   "metadata": {},
   "outputs": [
    {
     "name": "stdout",
     "output_type": "stream",
     "text": [
      "un\n",
      "deux\n",
      "trois\n"
     ]
    }
   ],
   "source": [
    "a, b, c = (\"un\", \"deux\", \"trois\")\n",
    "print(a)\n",
    "print(b)\n",
    "print(c)"
   ]
  },
  {
   "cell_type": "markdown",
   "metadata": {},
   "source": [
    "Le nombre de variables doit correspondre au nombre de valeurs."
   ]
  },
  {
   "cell_type": "markdown",
   "metadata": {},
   "source": [
    "### Slicing\n",
    "\n",
    "Python permet d'accéder efficacement à des sous-parties d'une collection, en indiquant l'index de début (inclus) et l'index de fin (exclu) des éléments souhaités séparés par le caractère : .\n",
    "\n",
    "Les index peuvent avoir une valeur :\n",
    "- positive : comptage des éléments de gauche à droite en partant du début\n",
    "- négative : comptage des éléments de droite à gauche en partant de la fin\n",
    "\n",
    "Les index peuvent être omis :\n",
    "- index de début : l'extrait commence avec le premier élément de la collection\n",
    "- index de fin : l'extrait se termine avec le dernier élément de la collection"
   ]
  },
  {
   "cell_type": "code",
   "execution_count": 39,
   "metadata": {},
   "outputs": [
    {
     "name": "stdout",
     "output_type": "stream",
     "text": [
      "1\n",
      "234\n",
      "123\n",
      "789\n"
     ]
    }
   ],
   "source": [
    "coll = \"123456789\"\n",
    "\n",
    "print(coll[0:1])\n",
    "print(coll[1:4])\n",
    "\n",
    "print(coll[:3])\n",
    "print(coll[-3:])"
   ]
  },
  {
   "cell_type": "markdown",
   "metadata": {},
   "source": [
    "### Chaînes de caractères\n",
    "\n",
    "On voit dans l'exemple ci-dessus que les chaînes de caractères peuvent être manipulées comme des listes.\n",
    "\n",
    "On peut assembler ou répéter les listes de caractères :"
   ]
  },
  {
   "cell_type": "code",
   "execution_count": 57,
   "metadata": {},
   "outputs": [
    {
     "name": "stdout",
     "output_type": "stream",
     "text": [
      "prénom nom\n",
      "ah ah ah ah ah \n"
     ]
    }
   ],
   "source": [
    "print(\"prénom\" + \" \" + \"nom\")\n",
    "print(\"ah \" * 5)"
   ]
  },
  {
   "cell_type": "markdown",
   "metadata": {},
   "source": [
    "On peut rechercher la présence de caractères dans la liste :"
   ]
  },
  {
   "cell_type": "code",
   "execution_count": 58,
   "metadata": {},
   "outputs": [
    {
     "name": "stdout",
     "output_type": "stream",
     "text": [
      "True\n",
      "True\n"
     ]
    }
   ],
   "source": [
    "print(\"c\" in \"abcd\")\n",
    "print(\"act\" in \"caractères\")"
   ]
  },
  {
   "cell_type": "markdown",
   "metadata": {},
   "source": [
    "On peut découper une liste de caractères selon certains de ces caractères à l'aide de la fonction **split()** :"
   ]
  },
  {
   "cell_type": "code",
   "execution_count": 44,
   "metadata": {},
   "outputs": [
    {
     "name": "stdout",
     "output_type": "stream",
     "text": [
      "['prénom', 'nom']\n"
     ]
    }
   ],
   "source": [
    "print(\"prénom nom\".split(\" \"))"
   ]
  },
  {
   "cell_type": "markdown",
   "metadata": {},
   "source": [
    "On peut convertir n'importe quelle valeur en chaine de caractères à l'aide de la fonction **str()** :"
   ]
  },
  {
   "cell_type": "code",
   "execution_count": 61,
   "metadata": {},
   "outputs": [
    {
     "data": {
      "text/plain": [
       "'Le prix est : 3.14'"
      ]
     },
     "execution_count": 61,
     "metadata": {},
     "output_type": "execute_result"
    }
   ],
   "source": [
    "\"Le prix est : \" + str(3.14)"
   ]
  },
  {
   "cell_type": "code",
   "execution_count": 62,
   "metadata": {},
   "outputs": [
    {
     "ename": "TypeError",
     "evalue": "must be str, not float",
     "output_type": "error",
     "traceback": [
      "\u001b[1;31m---------------------------------------------------------------------------\u001b[0m",
      "\u001b[1;31mTypeError\u001b[0m                                 Traceback (most recent call last)",
      "\u001b[1;32m<ipython-input-62-070c74307cbb>\u001b[0m in \u001b[0;36m<module>\u001b[1;34m()\u001b[0m\n\u001b[1;32m----> 1\u001b[1;33m \u001b[1;34m\"Le prix est : \"\u001b[0m \u001b[1;33m+\u001b[0m \u001b[1;36m3.14\u001b[0m\u001b[1;33m\u001b[0m\u001b[0m\n\u001b[0m",
      "\u001b[1;31mTypeError\u001b[0m: must be str, not float"
     ]
    }
   ],
   "source": [
    "\"Le prix est : \" + 3.14"
   ]
  },
  {
   "cell_type": "markdown",
   "metadata": {},
   "source": [
    "## Boucles\n",
    "\n",
    "Toutes les collections peuvent être parcourues élément par élément à l'aide de l'instruction **for** *variable* **in** *collection*."
   ]
  },
  {
   "cell_type": "code",
   "execution_count": 22,
   "metadata": {},
   "outputs": [
    {
     "name": "stdout",
     "output_type": "stream",
     "text": [
      "1\n",
      "a\n",
      "True\n"
     ]
    }
   ],
   "source": [
    "for x in (1,\"a\",True):\n",
    "    print(x)"
   ]
  },
  {
   "cell_type": "markdown",
   "metadata": {},
   "source": [
    "On peut générer une collection correspondant à une plage de nombres à l'aide de la fonction **range**(*début inclus*, *fin exclue*) :"
   ]
  },
  {
   "cell_type": "code",
   "execution_count": 23,
   "metadata": {},
   "outputs": [
    {
     "name": "stdout",
     "output_type": "stream",
     "text": [
      "1\n",
      "2\n",
      "3\n",
      "4\n"
     ]
    }
   ],
   "source": [
    "for x in range(1,5):\n",
    "    print(x)"
   ]
  },
  {
   "cell_type": "markdown",
   "metadata": {},
   "source": [
    "L'instruction **while** *condition* permet de répéter le bloc de code qui suit tant que la condition est vraie :"
   ]
  },
  {
   "cell_type": "code",
   "execution_count": 24,
   "metadata": {},
   "outputs": [
    {
     "name": "stdout",
     "output_type": "stream",
     "text": [
      "1\n",
      "a\n",
      "True\n",
      "0\n"
     ]
    }
   ],
   "source": [
    "i = 0\n",
    "while i < len(coll):\n",
    "    print(coll[i])\n",
    "    i = i + 1"
   ]
  }
 ],
 "metadata": {
  "kernelspec": {
   "display_name": "Python 3",
   "language": "python",
   "name": "python3"
  },
  "language_info": {
   "codemirror_mode": {
    "name": "ipython",
    "version": 3
   },
   "file_extension": ".py",
   "mimetype": "text/x-python",
   "name": "python",
   "nbconvert_exporter": "python",
   "pygments_lexer": "ipython3",
   "version": "3.7.7"
  }
 },
 "nbformat": 4,
 "nbformat_minor": 2
}
