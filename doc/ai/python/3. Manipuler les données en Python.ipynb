{
 "cells": [
  {
   "cell_type": "markdown",
   "metadata": {},
   "source": [
    "# Manipuler les données en Python"
   ]
  },
  {
   "cell_type": "markdown",
   "metadata": {},
   "source": [
    "## Programmation orientée objet\n",
    "\n",
    "Python permet de définir des classes d'objets à l'aide du mot clé **class**. Il est d'usage de commencer le nom de la classe par une majuscule. \n",
    "\n",
    "La déclaration des champs et méthodes de la classe sont indentés d'au moins un niveau par rapport au mot clé class."
   ]
  },
  {
   "cell_type": "code",
   "execution_count": 11,
   "metadata": {},
   "outputs": [],
   "source": [
    "class Personne:\n",
    "    \n",
    "    version = 1\n",
    "    \n",
    "    def set_nom(self, nouveau_nom):\n",
    "        self.nom = nouveau_nom\n",
    "    def set_prenom(self, nouveau_prenom):\n",
    "        self.prenom = nouveau_prenom\n",
    "    def set_age(self, nouvel_age):\n",
    "        self.age = nouvel_age"
   ]
  },
  {
   "cell_type": "markdown",
   "metadata": {},
   "source": [
    "Il n'est pas nécessaire de déclarer les champs de l'objet au préalable, on peut juste les utiliser :\n",
    "- les champs dont la valeur est partagée par toutes les instances de la classe sont initialisés directement dans le contexte de la classe (ex : version ci-dessus)\n",
    "- les champs qui prennent une valeur différente dans chacune des instances de la classe sont accessibles via le **premier paramètre self** passé implicitement aux méthodes de l'objet (ex : nom)\n",
    "\n",
    "Python **ne permet pas de limiter la visibilité** des champs d'un objet : il n'existe pas de moyen de rendre un champ privé ou protégé pour assurer l'encapsulation de détails d'implémentation."
   ]
  },
  {
   "cell_type": "markdown",
   "metadata": {},
   "source": [
    "Il n'est pas obligatoire de déclarer explicitement un **constructeur** pour une classe, mais on le peut le faire en définissant **une méthode \\_\\_init\\_\\_(self)**.\n",
    "\n",
    "On instancie un objet en mentionnant le nom de la classe et en appelant son constructeur par défaut, ou un constructeur avec des paramètres :"
   ]
  },
  {
   "cell_type": "code",
   "execution_count": 12,
   "metadata": {},
   "outputs": [
    {
     "data": {
      "text/plain": [
       "'Dupont'"
      ]
     },
     "execution_count": 12,
     "metadata": {},
     "output_type": "execute_result"
    }
   ],
   "source": [
    "pers = Personne() \n",
    "pers.set_nom(\"Dupont\")\n",
    "pers.nom"
   ]
  },
  {
   "cell_type": "code",
   "execution_count": 13,
   "metadata": {},
   "outputs": [],
   "source": [
    "class Personne:\n",
    "    \n",
    "    version = 2\n",
    "           \n",
    "    def __init__(self, nom, prenom, age):\n",
    "        self.nom = nom\n",
    "        self.prenom = prenom\n",
    "        self.age = age"
   ]
  },
  {
   "cell_type": "code",
   "execution_count": 14,
   "metadata": {},
   "outputs": [
    {
     "data": {
      "text/plain": [
       "40"
      ]
     },
     "execution_count": 14,
     "metadata": {},
     "output_type": "execute_result"
    }
   ],
   "source": [
    "pers = Personne(\"Dupont\", \"Jean\", 40)\n",
    "pers.age"
   ]
  },
  {
   "cell_type": "markdown",
   "metadata": {},
   "source": [
    "## Programmation fonctionnelle"
   ]
  },
  {
   "cell_type": "markdown",
   "metadata": {},
   "source": [
    "En Python, une variable peut faire référence à une fonction. Une fonction peut donc être passée en paramètre à une autre fonction.\n",
    "\n",
    "La fonction **map()** prend par exemple une fonction comme 1er paramètre, une collection de données comme 2ème paramètre, puis exécute de manière répétée la fonction sur la collection de données d'entrée, pour obtenir une collection de résultats :"
   ]
  },
  {
   "cell_type": "code",
   "execution_count": 15,
   "metadata": {},
   "outputs": [
    {
     "name": "stdout",
     "output_type": "stream",
     "text": [
      "1\n",
      "4\n",
      "9\n",
      "16\n"
     ]
    }
   ],
   "source": [
    "def square(x):\n",
    "    return x**2\n",
    "\n",
    "mafonction = square\n",
    "\n",
    "results = map(mafonction, (1,2,3,4))\n",
    "\n",
    "for val in results:\n",
    "    print(val)"
   ]
  },
  {
   "cell_type": "markdown",
   "metadata": {},
   "source": [
    "En réalité, la fonction map() ne retourne pas directement une collection de résultats, mais un **iterateur de type map** :"
   ]
  },
  {
   "cell_type": "code",
   "execution_count": 16,
   "metadata": {},
   "outputs": [
    {
     "name": "stdout",
     "output_type": "stream",
     "text": [
      "<map object at 0x00000182A147F400>\n"
     ]
    }
   ],
   "source": [
    "results_iterator = map(mafonction, (1,2,3,4))\n",
    "print(results_iterator)"
   ]
  },
  {
   "cell_type": "markdown",
   "metadata": {},
   "source": [
    "Cet objet peut être utilisé de manière répétée dans une boucle pour récupérer un à un les résultats, qui sont **calculés juste au moment où on en a besoin** :"
   ]
  },
  {
   "cell_type": "code",
   "execution_count": 17,
   "metadata": {},
   "outputs": [
    {
     "data": {
      "text/plain": [
       "1"
      ]
     },
     "execution_count": 17,
     "metadata": {},
     "output_type": "execute_result"
    }
   ],
   "source": [
    "next(results_iterator)"
   ]
  },
  {
   "cell_type": "code",
   "execution_count": 18,
   "metadata": {},
   "outputs": [
    {
     "data": {
      "text/plain": [
       "4"
      ]
     },
     "execution_count": 18,
     "metadata": {},
     "output_type": "execute_result"
    }
   ],
   "source": [
    "next(results_iterator)"
   ]
  },
  {
   "cell_type": "markdown",
   "metadata": {},
   "source": [
    "Ce motif de programmation permet de manipuler les données de manière très efficace : consommation mémoire réduite, quantité de calculs limitée au strict nécessaire."
   ]
  },
  {
   "cell_type": "markdown",
   "metadata": {},
   "source": [
    "## Lambdas\n",
    "\n",
    "Le mot clé **lambda** permet de déclarer une fonction :\n",
    "- sans nom\n",
    "- dont le code se limite à **une seule expression**\n",
    "- directement à l'emplacement où un paramètre de type fonction est attendu\n",
    "\n",
    "Le mot clé lambda est suivi d'une liste de noms de paramètres séparés par des virgules, puis du caractère :, puis de l'expression qui calcule le résultat en fonction des paramètres."
   ]
  },
  {
   "cell_type": "code",
   "execution_count": 20,
   "metadata": {},
   "outputs": [
    {
     "name": "stdout",
     "output_type": "stream",
     "text": [
      "1\n",
      "4\n",
      "9\n",
      "16\n"
     ]
    }
   ],
   "source": [
    "results = map(lambda x : x**2, (1,2,3,4))\n",
    "\n",
    "for result in results:\n",
    "    print(result)"
   ]
  },
  {
   "cell_type": "code",
   "execution_count": 23,
   "metadata": {},
   "outputs": [
    {
     "name": "stdout",
     "output_type": "stream",
     "text": [
      "5\n",
      "7\n",
      "9\n"
     ]
    }
   ],
   "source": [
    "results = map(lambda a,b : a+b, (1,2,3), (4,5,6))\n",
    "\n",
    "for result in results:\n",
    "    print(result)"
   ]
  },
  {
   "cell_type": "markdown",
   "metadata": {},
   "source": [
    "## List comprehensions\n",
    "\n",
    "Python définit une **syntaxe abrégée pour définir des séquences** appelée \"list comprehensions\".\n",
    "\n",
    "Par exemple, la séquence de nombres pairs créée par le programme ci-dessous :"
   ]
  },
  {
   "cell_type": "code",
   "execution_count": 24,
   "metadata": {},
   "outputs": [
    {
     "data": {
      "text/plain": [
       "[0, 2, 4, 6, 8]"
      ]
     },
     "execution_count": 24,
     "metadata": {},
     "output_type": "execute_result"
    }
   ],
   "source": [
    "nombres_pairs = []\n",
    "for i in range(0,10):\n",
    "    if i % 2 == 0:\n",
    "        nombres_pairs.append(i)\n",
    "        \n",
    "nombres_pairs"
   ]
  },
  {
   "cell_type": "markdown",
   "metadata": {},
   "source": [
    "Peut être générée par la syntaxe beaucoup plus compacte :"
   ]
  },
  {
   "cell_type": "code",
   "execution_count": 26,
   "metadata": {},
   "outputs": [
    {
     "data": {
      "text/plain": [
       "[0, 2, 4, 6, 8]"
      ]
     },
     "execution_count": 26,
     "metadata": {},
     "output_type": "execute_result"
    }
   ],
   "source": [
    "nombres_pairs = [i for i in range(0,10) if i % 2 ==0]\n",
    "\n",
    "nombres_pairs"
   ]
  },
  {
   "cell_type": "markdown",
   "metadata": {},
   "source": [
    "Cette syntaxe n'est pas seulement plus compacte, elle apporté également des **gains de performance**."
   ]
  },
  {
   "cell_type": "markdown",
   "metadata": {},
   "source": [
    "Autre exemple illustrant comment générer une séquence à partir de deux variables :"
   ]
  },
  {
   "cell_type": "code",
   "execution_count": 28,
   "metadata": {},
   "outputs": [
    {
     "data": {
      "text/plain": [
       "[5, 6, 7, 6, 7, 8, 7, 8, 9]"
      ]
     },
     "execution_count": 28,
     "metadata": {},
     "output_type": "execute_result"
    }
   ],
   "source": [
    "sommes = [a+b for a in (1,2,3) for b in (4,5,6)]\n",
    "\n",
    "sommes"
   ]
  },
  {
   "cell_type": "markdown",
   "metadata": {},
   "source": [
    "## Mise en forme de texte\n",
    "\n",
    "Python 3 utilise l'encodage de caractères Unicode par défaut, ce qui permet de manipuler les caractères de toutes les langues et cultures, ainsi que des symboles comme les emojis par exemple.\n",
    "\n",
    "La fonction **format()** définit une syntaxe pour insérer et mettre en forme des données dans un fragment de texte.\n",
    "\n",
    "On utilise des **accolades** pour marquer l'endroit où des valeurs doivent être insérées dans un message :"
   ]
  },
  {
   "cell_type": "code",
   "execution_count": 1,
   "metadata": {},
   "outputs": [
    {
     "name": "stdout",
     "output_type": "stream",
     "text": [
      "M Dupont est agé de 40 ans\n"
     ]
    }
   ],
   "source": [
    "data = { \"prenom\":\"Jean\", \"nom\":\"Dupont\", \"age\":40 }\n",
    "message = \"M {} est agé de {} ans\"\n",
    "print( message.format( data[\"nom\"], data[\"age\"] ) )"
   ]
  },
  {
   "cell_type": "markdown",
   "metadata": {},
   "source": [
    "Un nombre optionnellement spécifié entre accolades permet de **référencer l'une ou l'autre des variables** passées en paramètres de la fonction format, et on peut le compléter d'une clé ou d'un index pour **accéder aux valeurs contenues dans les variables de type collection** :"
   ]
  },
  {
   "cell_type": "code",
   "execution_count": 2,
   "metadata": {},
   "outputs": [
    {
     "name": "stdout",
     "output_type": "stream",
     "text": [
      "Jean Dupont est né le 10/2/1978\n"
     ]
    }
   ],
   "source": [
    "naissance = (10, 2, 1978)\n",
    "message2 = \"{0[prenom]} {0[nom]} est né le {1[0]}/{1[1]}/{1[2]}\"\n",
    "print(message2.format( data, naissance ))"
   ]
  },
  {
   "cell_type": "markdown",
   "metadata": {},
   "source": [
    "A l'intérieur des accolades, des éléments de syntaxe situés après le caractère : permettent de **définir la mise en forme des valeurs insérées** :\n",
    "- valeur numérique : nombre de chiffres et de décimales, présence d'un signe, groupement des chiffres, mode d'affichage\n",
    "- valeur textuelle : taille du texte et alignement dans la taille réservée"
   ]
  },
  {
   "cell_type": "code",
   "execution_count": 3,
   "metadata": {},
   "outputs": [
    {
     "name": "stdout",
     "output_type": "stream",
     "text": [
      "M Dupont**** est agé de 040.00 ans\n"
     ]
    }
   ],
   "source": [
    "message3 = \"M {:*<10} est agé de {:06.2f} ans\"\n",
    "print( message3.format( data[\"nom\"], data[\"age\"] ) )"
   ]
  },
  {
   "cell_type": "markdown",
   "metadata": {},
   "source": [
    "Toutes les possibilités offertes par la syntaxe utilisée par la fonction format() sont décrites en détails dans la documentation de référence : [format specification mini language](https://docs.python.org/3/library/string.html#format-specification-mini-language)."
   ]
  },
  {
   "cell_type": "markdown",
   "metadata": {},
   "source": [
    "## Dates et heures\n",
    "\n",
    "Voici un aperçu des fonctions de manipulation des heures et dates en Python :"
   ]
  },
  {
   "cell_type": "code",
   "execution_count": 4,
   "metadata": {},
   "outputs": [],
   "source": [
    "import time as tm\n",
    "import datetime as dt"
   ]
  },
  {
   "cell_type": "markdown",
   "metadata": {},
   "source": [
    "La fonction **time()** retourne la date et l'heure actuelles mesurées en nombre de secondes écoulées depuis le 1er janvier 1970 :"
   ]
  },
  {
   "cell_type": "code",
   "execution_count": 5,
   "metadata": {},
   "outputs": [
    {
     "data": {
      "text/plain": [
       "1524170396.4424794"
      ]
     },
     "execution_count": 5,
     "metadata": {},
     "output_type": "execute_result"
    }
   ],
   "source": [
    "tm.time()"
   ]
  },
  {
   "cell_type": "markdown",
   "metadata": {},
   "source": [
    "La classe **datetime** permet de convertir ce compteur de temps technique en année, mois, jour, heure, minutes, secondes :"
   ]
  },
  {
   "cell_type": "code",
   "execution_count": 6,
   "metadata": {},
   "outputs": [
    {
     "data": {
      "text/plain": [
       "datetime.datetime(2018, 4, 19, 22, 39, 59, 115520)"
      ]
     },
     "execution_count": 6,
     "metadata": {},
     "output_type": "execute_result"
    }
   ],
   "source": [
    "now = dt.datetime.fromtimestamp(tm.time())\n",
    "now"
   ]
  },
  {
   "cell_type": "code",
   "execution_count": 7,
   "metadata": {},
   "outputs": [
    {
     "data": {
      "text/plain": [
       "(2018, 4, 19, 22, 39, 59)"
      ]
     },
     "execution_count": 7,
     "metadata": {},
     "output_type": "execute_result"
    }
   ],
   "source": [
    "now.year, now.month, now.day, now.hour, now.minute, now.second"
   ]
  },
  {
   "cell_type": "markdown",
   "metadata": {},
   "source": [
    "La fonction **timedelta()** permet de manipuler des durées, qui peuvent être ajoutées ou soustraites à une date :"
   ]
  },
  {
   "cell_type": "code",
   "execution_count": 8,
   "metadata": {},
   "outputs": [
    {
     "data": {
      "text/plain": [
       "datetime.timedelta(7)"
      ]
     },
     "execution_count": 8,
     "metadata": {},
     "output_type": "execute_result"
    }
   ],
   "source": [
    "semaine = dt.timedelta(weeks=1)\n",
    "semaine"
   ]
  },
  {
   "cell_type": "code",
   "execution_count": 9,
   "metadata": {},
   "outputs": [
    {
     "data": {
      "text/plain": [
       "datetime.date(2018, 4, 26)"
      ]
     },
     "execution_count": 9,
     "metadata": {},
     "output_type": "execute_result"
    }
   ],
   "source": [
    "semaineprochaine = dt.date.today() + semaine\n",
    "semaineprochaine"
   ]
  },
  {
   "cell_type": "code",
   "execution_count": 10,
   "metadata": {},
   "outputs": [
    {
     "data": {
      "text/plain": [
       "True"
      ]
     },
     "execution_count": 10,
     "metadata": {},
     "output_type": "execute_result"
    }
   ],
   "source": [
    "dt.date.today() < semaineprochaine"
   ]
  },
  {
   "cell_type": "markdown",
   "metadata": {},
   "source": [
    "## Fichiers de données CSV\n",
    "\n",
    "Les données sont souvent stockées dans des fichiers lisibles pour les humains au format suivant :\n",
    "- on stocke un tableau de données par fichier\n",
    "- les valeurs contenues dans les cellules du tableau sont écrites sous forme de chaines de caractères\n",
    "- le caractère **virgule est réservé** pour séparer les colonnes du tableau\n",
    "- le caractère **saut de ligne est réservé** pour séparer les lignes du tableau\n",
    "- la première ligne du fichier spécifie le nom de chaque colonne\n",
    "\n",
    "Les tableaux Excel peuvent lus et enregistrés au format CSV.\n",
    "\n",
    "Le **module csv** du langage Pyhton fournit des fonctions pour lire et écrire facilement les fichiers au format CSV :"
   ]
  },
  {
   "cell_type": "code",
   "execution_count": 30,
   "metadata": {},
   "outputs": [
    {
     "name": "stdout",
     "output_type": "stream",
     "text": [
      "1819\n",
      "<class 'collections.OrderedDict'>\n",
      "('crawlSource', 'LOGIC_IMMO')\n",
      "('url', '')\n",
      "('marketingType', 'SALE')\n",
      "('department', 'NOUVELLE_CALEDONIE')\n",
      "('departmentCode', '988')\n",
      "('adCount', '0')\n"
     ]
    }
   ],
   "source": [
    "import csv\n",
    "\n",
    "# Ouverture du fichier \"annonces_immo\" et lecture des lignes du tableau\n",
    "with open(\"annonces_immo.csv\") as csvfile:\n",
    "    dictreader = csv.DictReader(csvfile)\n",
    "    lignes = list(dictreader)\n",
    "    \n",
    "# Nombre de lignes lues\n",
    "print(len(lignes))\n",
    "\n",
    "# Chaque ligne est un dictionnaire (nom de colonne, valeur cellule)\n",
    "print(type(lignes[0]))\n",
    "\n",
    "# Affichage des noms de colonnes et des valeurs des cellules\n",
    "for cellule in lignes[0].items():\n",
    "    print(cellule)"
   ]
  },
  {
   "cell_type": "markdown",
   "metadata": {},
   "source": [
    "La structure de données **set** permet de stocker un ensemble non ordonné de valeurs distinctes.\n",
    "\n",
    "Elle est utilisée ci-dessous pour obtenir la liste des valeurs distinctes de la colonne \"crawlSource\" du tableau :"
   ]
  },
  {
   "cell_type": "code",
   "execution_count": 31,
   "metadata": {},
   "outputs": [
    {
     "data": {
      "text/plain": [
       "{'ACHETER_LOUER',\n",
       " 'ANNONCES_JAUNES',\n",
       " 'A_VENDRE_A_LOUER',\n",
       " 'BELLES_DEMEURES',\n",
       " 'BIEN_ICI',\n",
       " 'EXPLORIMMO',\n",
       " 'FNAIM',\n",
       " 'IMMONOT',\n",
       " 'LE_BON_COIN',\n",
       " 'LOGIC_IMMO',\n",
       " 'LUX_RESIDENCE',\n",
       " 'OUEST_FRANCE_IMMO',\n",
       " 'PARU_VENDU',\n",
       " 'PROPRIETES_DE_FRANCE',\n",
       " 'SE_LOGER',\n",
       " 'SUPER_IMMO',\n",
       " 'TOP_ANNONCES'}"
      ]
     },
     "execution_count": 31,
     "metadata": {},
     "output_type": "execute_result"
    }
   ],
   "source": [
    "sources = set(ligne[\"crawlSource\"] for ligne in lignes)\n",
    "sources"
   ]
  },
  {
   "cell_type": "markdown",
   "metadata": {},
   "source": [
    "Les fonctions du module csv sont décrites plus en détails dans la documentation de référence : [library csv](https://docs.python.org/3/library/csv.html)."
   ]
  },
  {
   "cell_type": "code",
   "execution_count": null,
   "metadata": {},
   "outputs": [],
   "source": []
  }
 ],
 "metadata": {
  "kernelspec": {
   "display_name": "Python 3",
   "language": "python",
   "name": "python3"
  },
  "language_info": {
   "codemirror_mode": {
    "name": "ipython",
    "version": 3
   },
   "file_extension": ".py",
   "mimetype": "text/x-python",
   "name": "python",
   "nbconvert_exporter": "python",
   "pygments_lexer": "ipython3",
   "version": "3.7.7"
  }
 },
 "nbformat": 4,
 "nbformat_minor": 2
}
