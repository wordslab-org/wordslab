{
 "cells": [
  {
   "cell_type": "markdown",
   "metadata": {},
   "source": [
    "# Utiliser Jupyter Notebook"
   ]
  },
  {
   "cell_type": "markdown",
   "metadata": {},
   "source": [
    "## Comprendre la structure d'un notebook\n",
    "\n",
    "Un notebook Jupyter est divisé en **cellules** positionnées les unes au dessus des autres.\n",
    "\n",
    "Ces cellules peuvent être de deux types :\n",
    "- du **texte mis en forme** à l'aide de la syntaxe **Markdown**\n",
    "- du **code Python** qui peut être exécuté de manière interactive\n",
    "\n",
    "On documente chaque étape du code en alternant une cellule de texte mis en forme et une cellule de code Python. Un notebook est ainsi constitué d'un grand nombre de fragments de code Python séparés par des commentaires explicatifs.\n",
    "\n",
    "A tout moment, une et une seule cellule du notebook est **sélectionnée** : on la reconnait par un encadrement de couleur bleue ou verte. A l'ouverture du notebook, la première cellule est sélectionnée par défaut. On peut ensuite sélectionner une cellule arbitraire du notebook en cliquant dessus, ou naviguer d'une cellule à l'autre avec les flèches haut/bas.\n",
    "\n",
    "On **exécute** la cellule sélectionnée en appuyant sur le **bouton Run** de la barre d'outils située au dessus du notebook, ou en utilisant le raccourci clavier **\\[Ctrl\\]+\\[Enter\\]**. \n",
    "\n",
    "Lorsque la cellule sélectionnée est exécutée, la sélection passe immédiatement à la cellule suivante. On exécute ainsi le programme Python pas à pas.\n",
    "\n",
    "L'exécution d'une cellule de texte annoté avec la syntaxe Markdown **affiche le texte mis en forme** et **déplace la sélection à la cellule suivante**.\n",
    "\n",
    "L'exécution d'une cellule de code Python **interprête le fragment de programme** contenu dans la cellule, **affiche un éventuel résultat** juste en dessous de la cellule, puis **déplace la sélection à la cellule suivante** sans l'exécuter."
   ]
  },
  {
   "cell_type": "markdown",
   "metadata": {},
   "source": [
    "## Comprendre l'exécution du code Python\n",
    "\n",
    "Tous les fragments de code sont exécutés dans un contexte d'exécution commun à l'ensemble du notebook apppelé **kernel**. Ainsi, si on défini la valeur d'une variable dans une première cellule :"
   ]
  },
  {
   "cell_type": "code",
   "execution_count": 2,
   "metadata": {},
   "outputs": [],
   "source": [
    "message=\"souviens-toi\""
   ]
  },
  {
   "cell_type": "markdown",
   "metadata": {},
   "source": [
    "elle est accessible depuis le code d'une cellule exécutée plus tard :"
   ]
  },
  {
   "cell_type": "code",
   "execution_count": 5,
   "metadata": {},
   "outputs": [
    {
     "name": "stdout",
     "output_type": "stream",
     "text": [
      "j'ai oublié\n"
     ]
    }
   ],
   "source": [
    "print(message)"
   ]
  },
  {
   "cell_type": "markdown",
   "metadata": {},
   "source": [
    "On note ci-dessus que le **résultat de la commande** print a été affiché juste en dessous de la cellule au moment de son exécution. Ce résultat est enregistré dans le texte du notebook, et sera réaffiché lors de sa prochaine ouverture.\n",
    "\n",
    "Si la cellule est exécutée une nouvelle fois plus tard, le résultat sera effacé et remis à jour.\n",
    "\n",
    "Dans le cadre d'une **démarche de développement itérative** par essai/erreur, on peut ainsi exécuter et ré-exécuter des cellules dans l'ordre qu'on souhaite : on exécute trois cellules pour obtenir un résultat, on s'aperçoit que le résultat n'est pas celui attendu, on modifie le code de la première cellule, puis on ré-exécute les trois cellules dans l'ordre, jusqu'à obtenir le résultat attendu avant de passer à la suite.\n",
    "\n",
    "L'ordre d'exécution des cellules par le kernel ne correspond donc pas obligatoirement à l'ordre de lecture du document de haut en bas : il peut être manipulé de manière interactive par l'utilisateur. Afin de pouvoir suivre l'ordre dans lequel les cellules ont été exécutées, chaque fragment de code exécuté est préfixé d'un **indicateur d'ordre d'exécution In \\[1\\], In \\[2\\]***, etc ...\n",
    "\n",
    "Par exemple si on modifie la valeur de la variable message en exécutant la cellule ci-dessous :"
   ]
  },
  {
   "cell_type": "code",
   "execution_count": 4,
   "metadata": {},
   "outputs": [],
   "source": [
    "message=\"j'ai oublié\""
   ]
  },
  {
   "cell_type": "markdown",
   "metadata": {},
   "source": [
    "puis, si on sélectionne manuellement / ré-exécute la cellule \"print(message)\" située plus haut, on voit que :\n",
    "- le résultat affiché a changé\n",
    "- l'indicateur d'ordre d'exécution de la cellule située plus haut est postérieur à celui de la cellule située en dessous\n",
    "\n",
    "Pour **remettre à zéro le contexte d'exécution** des fragments de code (par exemple : après une série de modifications interactives par essai/erreur à différents endroits du programme, pour tout retester proprement de bout en bout dans le bon ordre), on peut redémarrer le kernel par le **bouton Restart the kernel (flèche circulaire)** au dessus du notebook.\n",
    "\n",
    "Si on appuie sur ce bouton et qu'on exécute immédiatement après la cellule ci-dessous, on obtient une erreur indiquant que la variable n'est pas encore définie :"
   ]
  },
  {
   "cell_type": "code",
   "execution_count": 1,
   "metadata": {},
   "outputs": [
    {
     "ename": "NameError",
     "evalue": "name 'message' is not defined",
     "output_type": "error",
     "traceback": [
      "\u001b[1;31m---------------------------------------------------------------------------\u001b[0m",
      "\u001b[1;31mNameError\u001b[0m                                 Traceback (most recent call last)",
      "\u001b[1;32m<ipython-input-1-83cfdf559502>\u001b[0m in \u001b[0;36m<module>\u001b[1;34m()\u001b[0m\n\u001b[1;32m----> 1\u001b[1;33m \u001b[0mprint\u001b[0m\u001b[1;33m(\u001b[0m\u001b[0mmessage\u001b[0m\u001b[1;33m)\u001b[0m\u001b[1;33m\u001b[0m\u001b[0m\n\u001b[0m",
      "\u001b[1;31mNameError\u001b[0m: name 'message' is not defined"
     ]
    }
   ],
   "source": [
    "print(message)"
   ]
  },
  {
   "cell_type": "markdown",
   "metadata": {},
   "source": [
    "## Editer le contenu des cellules\n",
    "\n",
    "La cellule sélectionnée peut être dans deux états :\n",
    "- **mode commande (bordure bleue)** : contenu de la cellule non modifiable, un appui sur une lettre du clavier déclenche une commande\n",
    "- **mode édition (bordure verte)** : contenu de la cellule modifiable, un appui sur une lettre du clavier permet d'écrire du texte annoté avec la syntaxe Markdown ou du code Python dans la cellule\n",
    "\n",
    "L'état initial d'une cellule est le suivant :\n",
    "- une cellule qui récupère la sélection automatiquement, suite à l'exécution de la cellule précédente ou suite à l'utilisation des flèches haut/bas du clavier pour parcourir le notebook, est toujours sélectionnée en mode commande\n",
    "- un simple clic sur une cellule de texte mis en forme la sélectionne en mode commande / un double clic la sélectionne en mode édition\n",
    "- un simple clic sur une cellule de code Python la sélectionne en mode édition\n",
    "\n",
    "On fait passer la cellule sélectionnée d'un mode à l'autre avec les raccourcis clavier suivants :\n",
    "- mode commande => mode édition : **\\[Enter\\]**\n",
    "- mode édition  => mode commande : **\\[Esc\\]**\n",
    "\n",
    "Lorsqu'une cellule de texte mis en forme passe en mode édition, c'est la syntaxe Markdown qui est affichée à l'écran. Cette syntaxe reste affichée tant qu'on ne ré-exécute pas la cellule, par exemple en appuyant sur \\[Ctrl+Enter\\]. **Après exécution de la cellule, le rendu visuel du texte mis en forme est affiché en lieu et place de la syntaxe Markdown**.\n",
    "\n",
    "Lorsqu'une cellule est en mode commande, on peut utiliser les deux raccourcis clavier suivants pour **modifier le type de cellule** :\n",
    "- **\\[Y\\]** => cellule de code Python\n",
    "- **\\[M\\]** => cellule de texte mis en forme\n",
    "\n",
    "On peut insérer / supprimer / fusionner / diviser des cellules à l'endroit du curseur en utilisant :\n",
    "- le bouton **Insert cell below (+)** de la barre d'outils\n",
    "- les menus **Edit et Insert**\n",
    "\n",
    "Deux raccourcis clavier utiles à connaître en mode commande :\n",
    "- **\\[A\\]** => insérer une nouvelle cellule au-dessus (Above)\n",
    "- **\\[B\\]** => insérer une nouvelle celulle en-dessous (Below)\n",
    "\n",
    "On sauvegarde le contenu du notebook avec :\n",
    "- le bouton **Save and checkpoint (disquette)** de la barre d'outils\n",
    "- le raccourci clavier **\\[Crtl-S\\]** en mode édition, ou simplement **\\[S\\]** en mode commande"
   ]
  },
  {
   "cell_type": "markdown",
   "metadata": {},
   "source": [
    "## Ecrire du texte mis en forme\n",
    "\n",
    "Les cellules de texte utilisent la syntaxe Markdown pour décrire de manière simple la mise en forme attendue.\n",
    "\n",
    "Voici les principaux éléments de cette syntaxe :\n",
    "\n",
    "### Titres\n",
    "\n",
    "- Titre niveau 1 : **\\#** Titre 1\n",
    "- Titre niveau 2 : **\\##** Titre 2\n",
    "- ...\n",
    "- Titre niveau 6 : **\\######** Titre 6\n",
    "\n",
    "### Paragraphes\n",
    "\n",
    "Laisser une ligne vide pour séparer deux paragraphes.\n",
    "\n",
    "### Styles\n",
    "\n",
    "- **Gras** : \\*\\*gras\\*\\*\n",
    "- *Italique* : \\*italique\\*\n",
    "- ~~Barré~~ : \\~\\~barré\\~\\~\n",
    "\n",
    "Ignorer les marques de mise en forme : \\\\\\*italique désactivé\\\\\\*.\n",
    "\n",
    "### Liens et images\n",
    "\n",
    "```\n",
    "[texte du lien](url du lien)\n",
    "```\n",
    "\n",
    "[Jupyter Notebook](http://jupyter.org/)\n",
    "\n",
    "```\n",
    "![Texte alternatif pour l'image](url de l'image)\n",
    "```\n",
    "\n",
    "![Logo Markdown](http://commonmark.org/images/markdown-mark-small.png)\n",
    "\n",
    "### Listes\n",
    "\n",
    "Liste non ordonnée : \\- elt \\- elt\n",
    "- elément 1\n",
    "- élément 2\n",
    "- élément 3\n",
    "\n",
    "Liste ordonnée : 1. elt 2. elt\n",
    "1. élément 1\n",
    "2. élément 2\n",
    "3. élément 3\n",
    "\n",
    "Listes à plusieurs niveaux : décalage de 2 espaces\n",
    "- niveau 1\n",
    "  - niveau 2\n",
    "    - niveau 3\n",
    "\n",
    "### Cadres\n",
    "\n",
    "- Citation : \\> phrase\n",
    "\n",
    "> phrase\n",
    "\n",
    "- Code : \n",
    "  \\`\\`\\`\n",
    "  commandes sur plusieurs lignes\n",
    "  \\`\\`\\`\n",
    "  \n",
    "```\n",
    "commande1\n",
    "commande2\n",
    "```\n",
    "\n",
    "- Code `en ligne` : \\`code\\` \n",
    "\n",
    "### Tableaux\n",
    "\n",
    "```\n",
    "| Entête   | Entête   |\n",
    "| -------- | -------- |\n",
    "| Cellule  | Cellule  |\n",
    "| Cellule  | Cellule  |\n",
    "```\n",
    "\n",
    "| Entête   | Entête   |\n",
    "| -------- | -------- |\n",
    "| Cellule  | Cellule  |\n",
    "| Cellule  | Cellule  |"
   ]
  }
 ],
 "metadata": {
  "kernelspec": {
   "display_name": "Python 3",
   "language": "python",
   "name": "python3"
  },
  "language_info": {
   "codemirror_mode": {
    "name": "ipython",
    "version": 3
   },
   "file_extension": ".py",
   "mimetype": "text/x-python",
   "name": "python",
   "nbconvert_exporter": "python",
   "pygments_lexer": "ipython3",
   "version": "3.7.7"
  }
 },
 "nbformat": 4,
 "nbformat_minor": 2
}
