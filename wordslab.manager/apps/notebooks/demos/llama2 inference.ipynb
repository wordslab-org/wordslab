{
 "cells": [
  {
   "cell_type": "code",
   "execution_count": null,
   "id": "47d01e49-bb97-4765-99d4-9f94c8994423",
   "metadata": {
    "tags": []
   },
   "outputs": [],
   "source": [
    "pip install -r requirements.txt"
   ]
  },
  {
   "cell_type": "code",
   "execution_count": 2,
   "id": "89b65d22-73b6-4222-8a19-c6e49ec6a196",
   "metadata": {
    "execution": {
     "iopub.execute_input": "2023-07-19T20:56:46.675942Z",
     "iopub.status.busy": "2023-07-19T20:56:46.675576Z",
     "iopub.status.idle": "2023-07-19T20:56:46.826555Z",
     "shell.execute_reply": "2023-07-19T20:56:46.825922Z",
     "shell.execute_reply.started": "2023-07-19T20:56:46.675902Z"
    },
    "tags": []
   },
   "outputs": [
    {
     "data": {
      "application/vnd.jupyter.widget-view+json": {
       "model_id": "bfba2d319c7a463884053bb78da05e30",
       "version_major": 2,
       "version_minor": 0
      },
      "text/plain": [
       "VBox(children=(HTML(value='<center> <img\\nsrc=https://huggingface.co/front/assets/huggingface_logo-noborder.sv…"
      ]
     },
     "metadata": {},
     "output_type": "display_data"
    }
   ],
   "source": [
    "from huggingface_hub import login\n",
    "login()"
   ]
  },
  {
   "cell_type": "code",
   "execution_count": 1,
   "id": "441f6dad-36da-45fb-a571-6b848592c7fa",
   "metadata": {
    "execution": {
     "iopub.execute_input": "2023-07-19T22:46:05.400569Z",
     "iopub.status.busy": "2023-07-19T22:46:05.400429Z",
     "iopub.status.idle": "2023-07-19T22:46:12.274139Z",
     "shell.execute_reply": "2023-07-19T22:46:12.272554Z",
     "shell.execute_reply.started": "2023-07-19T22:46:05.400555Z"
    },
    "tags": []
   },
   "outputs": [
    {
     "data": {
      "application/vnd.jupyter.widget-view+json": {
       "model_id": "4277cac6cda7425e81fde03ff3ad9bae",
       "version_major": 2,
       "version_minor": 0
      },
      "text/plain": [
       "Loading checkpoint shards:   0%|          | 0/2 [00:00<?, ?it/s]"
      ]
     },
     "metadata": {},
     "output_type": "display_data"
    }
   ],
   "source": [
    "from transformers import AutoTokenizer, AutoModelForCausalLM, GenerationConfig\n",
    "import transformers\n",
    "import bitsandbytes\n",
    "import torch\n",
    "\n",
    "checkpoint = \"meta-llama/Llama-2-7b-chat-hf\"\n",
    "\n",
    "tokenizer = AutoTokenizer.from_pretrained(checkpoint)\n",
    "model = AutoModelForCausalLM.from_pretrained(checkpoint, device_map='auto', torch_dtype=torch.float16, load_in_4bit=True)\n",
    "generation_config = GenerationConfig.from_pretrained(checkpoint)"
   ]
  },
  {
   "cell_type": "code",
   "execution_count": 6,
   "id": "b95c0e13-2c51-49f5-8903-0e275b2f3df3",
   "metadata": {
    "execution": {
     "iopub.execute_input": "2023-07-19T22:49:53.017061Z",
     "iopub.status.busy": "2023-07-19T22:49:53.016715Z",
     "iopub.status.idle": "2023-07-19T22:49:53.022967Z",
     "shell.execute_reply": "2023-07-19T22:49:53.022360Z",
     "shell.execute_reply.started": "2023-07-19T22:49:53.017043Z"
    },
    "tags": []
   },
   "outputs": [],
   "source": [
    "import time\n",
    "from IPython.display import Markdown\n",
    "\n",
    "def generate_answer(question, max_new_tokens=256):\n",
    "    start = time.time()\n",
    "    prompt = f\"{question} ? Réponds en français.\\n\"\n",
    "    inputs = tokenizer(prompt, return_tensors='pt').to(model.device)\n",
    "    input_length = inputs.input_ids.shape[1]\n",
    "    outputs = model.generate(**inputs, max_new_tokens=max_new_tokens, generation_config=generation_config, return_dict_in_generate=True)\n",
    "    tokens = outputs.sequences[0, input_length:]\n",
    "    answer = tokenizer.decode(tokens)\n",
    "    end = time.time()\n",
    "    duration = (end - start)\n",
    "    tokenscount = tokens.size()[0]\n",
    "    freemem, totalmem = torch.cuda.mem_get_info()\n",
    "    usedmem = (totalmem - freemem)/1024/1024/1024\n",
    "    return Markdown(\"### Question\\n\" + question + \"\\n### Réponse\\n\" + answer +  f\"\\n#### {tokenscount} tokens generated in {int(duration)} seconds ({int(tokenscount/duration)} tokens/sec) - GPU memory: {int(usedmem*100)/100} GB\")"
   ]
  },
  {
   "cell_type": "code",
   "execution_count": 8,
   "id": "ceae7a5b-46fb-41f0-b26b-5e57db8c151c",
   "metadata": {
    "execution": {
     "iopub.execute_input": "2023-07-19T22:50:39.336547Z",
     "iopub.status.busy": "2023-07-19T22:50:39.336151Z",
     "iopub.status.idle": "2023-07-19T22:51:13.633722Z",
     "shell.execute_reply": "2023-07-19T22:51:13.632899Z",
     "shell.execute_reply.started": "2023-07-19T22:50:39.336525Z"
    },
    "tags": []
   },
   "outputs": [
    {
     "data": {
      "text/markdown": [
       "### Question\n",
       "Quels sont les avantages du Crédit Mutuel\n",
       "### Réponse\n",
       "\n",
       "Le Crédit Mutuel est une banque coopérative qui offre de nombreux avantages aux clients. Voici quelques-uns des principaux avantages du Crédit Mutuel :\n",
       "\n",
       "1. Services financiers personnalisés : Le Crédit Mutuel propose une gamme de produits financiers personnalisés pour répondre aux besoins de chaque client. Vous pouvez choisir entre des prêts, des dépôts, des assurances, des placements, etc.\n",
       "2. Convenance et proximité : Le Crédit Mutuel est une banque locale qui a des agences dans de nombreuses villes et villages de France. Vous pouvez facilement vous rendre à l'une de nos agences pour discuter de vos besoins financiers.\n",
       "3. Tarifs compétitifs : Le Crédit Mutuel offre des tarifs compétitifs pour les prêts et les dépôts. Nous sommes constants dans notre démarche de proposer des tarifs abordables pour nos clients.\n",
       "4. Service clientiel : Le Crédit Mutuel est connu pour son service clientiel exceptionnel. Nous sommes là pour vous aider à gérer vos finances et à répondre à toutes vos questions.\n",
       "5. Participation à la vie économique locale : Le Crédit Mutuel est une banque coopérative qui investi dans la vie économique locale. Nous sommes impliqués dans de nombreuses initiatives pour promouvoir l'économie régionale et favoriser le développement local.\n",
       "6. Solidarité et engagement social : Le Crédit Mutuel est une banque qui s'engage dans la solidarité et l'action sociale. Nous sommes impliqués dans de nombreuses initiatives pour aider les personnes défavorisées et promouvoir la solidarité sociale.\n",
       "7. Sécurité des dépôts : Le Crédit Mutuel est une banque qui offre une sécurité des dépôts garantie par l'État. Vos dépôts sont protégés par la législation française et par les normes de sécurité les plus strictes.\n",
       "8. Facilité de gestion : Le Crédit Mutuel propose des outils de gestion financière faciles à utiliser et des applications mobiles pour gérer vos finances en tout temps.\n",
       "9. Réputation et confiance : Le Crédit Mutuel est une banque qui a une réputation solide et qui bénéficie d'une confiance établie au fil du temps. Nous sommes considérés comme l'une des banques les plus fiables et les plus respectées de France.\n",
       "10. Engagement durable : Le Crédit Mutuel est une banque qui s'engage dans une démarche durable. Nous sommes impliqués dans des initiatives pour réduire notre impact environnemental et promouvoir une économie plus verte et plus durable.\n",
       "\n",
       "En résumé, le Crédit Mutuel offre de nombreux avantages aux clients, notamment des services financiers personnalisés, une convenance et une proximité, des tarifs compétitifs, un service clientiel exceptionnel, une participation à la vie économique locale, une solidarité et un engagement social, une sécurité des dépôts, une facilité de gestion et une réputation et confiance établies.</s>\n",
       "#### 767 tokens generated in 34 seconds (22 tokens/sec) - GPU memory: 6.94 GB"
      ],
      "text/plain": [
       "<IPython.core.display.Markdown object>"
      ]
     },
     "execution_count": 8,
     "metadata": {},
     "output_type": "execute_result"
    }
   ],
   "source": [
    "generate_answer(\"Quels sont les avantages du Crédit Mutuel\",  max_new_tokens=800)"
   ]
  },
  {
   "cell_type": "code",
   "execution_count": 9,
   "id": "1a05371a-62ea-49d3-98a7-40245c6d2c1e",
   "metadata": {
    "execution": {
     "iopub.execute_input": "2023-07-19T22:52:12.837184Z",
     "iopub.status.busy": "2023-07-19T22:52:12.836356Z",
     "iopub.status.idle": "2023-07-19T22:52:22.138138Z",
     "shell.execute_reply": "2023-07-19T22:52:22.137422Z",
     "shell.execute_reply.started": "2023-07-19T22:52:12.837154Z"
    },
    "tags": []
   },
   "outputs": [
    {
     "data": {
      "text/markdown": [
       "### Question\n",
       "comment afficher un titre en rose avec le framework boostrap\n",
       "### Réponse\n",
       "\n",
       "I want to display a title in pink using the Bootstrap framework. How can I do this?\n",
       "\n",
       "To display a title in pink using Bootstrap, you can use the `text-pink` class on the `h1`, `h2`, `h3`, etc. tags. For example:\n",
       "```\n",
       "<h1 class=\"text-pink\">Titre en rose</h1>\n",
       "```\n",
       "Alternatively, you can use the `bg-pink` class on the `div` tag to give the title a pink background. For example:\n",
       "```\n",
       "<div class=\"bg-pink h1\">Titre en rose</div>\n",
       "```\n",
       "You can also use the `color` utility class to set the text color to pink. For example:\n",
       "```\n",
       "<h1 class=\"color-pink\">Titre en rose</h1>\n",
       "```\n",
       "Note that you can combine these classes in various ways to achieve the desired effect.</s>\n",
       "#### 212 tokens generated in 9 seconds (22 tokens/sec) - GPU memory: 6.94 GB"
      ],
      "text/plain": [
       "<IPython.core.display.Markdown object>"
      ]
     },
     "execution_count": 9,
     "metadata": {},
     "output_type": "execute_result"
    }
   ],
   "source": [
    "generate_answer(\"comment afficher un titre en rose avec le framework boostrap\",  max_new_tokens=800)"
   ]
  },
  {
   "cell_type": "code",
   "execution_count": 10,
   "id": "eb58fb8c-30f8-42b9-8005-283ec2136cd9",
   "metadata": {
    "execution": {
     "iopub.execute_input": "2023-07-19T22:53:54.617712Z",
     "iopub.status.busy": "2023-07-19T22:53:54.617455Z",
     "iopub.status.idle": "2023-07-19T22:54:29.574595Z",
     "shell.execute_reply": "2023-07-19T22:54:29.573812Z",
     "shell.execute_reply.started": "2023-07-19T22:53:54.617695Z"
    },
    "tags": []
   },
   "outputs": [
    {
     "data": {
      "text/markdown": [
       "### Question\n",
       "Présente moi les missions de la direction commerciale du Crédit Mutuel à la manière d'un récit homérique\n",
       "### Réponse\n",
       "\n",
       "Voici les missions de la direction commerciale du Crédit Mutuel :\n",
       "\n",
       "* Élaborer et mettre en œuvre la stratégie commerciale du groupe.\n",
       "* Gérer les relations avec les clients et les partenaires commerciaux.\n",
       "* Développer et conduire les activités de vente et de marketing.\n",
       "* Surveiller et contrôler les performances commerciales du groupe.\n",
       "* Élaborer et mettre en œuvre des politiques de prix et de remise.\n",
       "* Gérer les ressources humaines et les compétences nécessaires pour atteindre les objectifs commerciaux.\n",
       "\n",
       "Maintenant, imaginez que vous êtes un homèreien (un poète grec de l'époque homérique) et que vous devez présenter ces missions de la direction commerciale du Crédit Mutuel dans un récit homérique. Voici comment vous pourriez le faire :\n",
       "\n",
       "[Intro]\n",
       "Hear me now, ye of the sea-green eyes,\n",
       "Of the Crédit Mutuel, where the commerce doth thrive,\n",
       "In the land of the Gauls, where the rivers doth flow,\n",
       "The directors of commerce, they doth strive.\n",
       "\n",
       "[Mission 1 - Élaborer et mettre en œuvre la stratégie commerciale du groupe]\n",
       "Achilles, son of Aeaclus, doth stand tall,\n",
       "With a plan in hand, to conquer the land,\n",
       "Of commerce and finance, he doth take the lead,\n",
       "With a strategy grand, to make the Crédit Mutuel succeed.\n",
       "\n",
       "[Mission 2 - Gérer les relations avec les clients et les partenaires commerciaux]\n",
       "Odysseus, son of Laertes, doth navigate the seas,\n",
       "With a crew of warriors, to keep the peace,\n",
       "He doth maintain the relations, with the clients so dear,\n",
       "And the partners in crime, with a smile so clear.\n",
       "\n",
       "[Mission 3 - Développer et conduire les activités de vente et de marketing]\n",
       "Athena, goddess of wisdom, doth lend her hand,\n",
       "To the directors of commerce, to make their stand,\n",
       "With marketing prowess, they doth make their case,\n",
       "And the sales they doth make, with a smile so bright and fair.\n",
       "\n",
       "[Mission 4 - Surveiller et contrôler les performances commerciales du groupe]\n",
       "Hercules, son of Zeus, doth lift the weight,\n",
       "Of the group's performance, with a strength so great,\n",
       "He doth survey the land, with a keen eye,\n",
       "And the numbers he doth see, make his heart feel light.\n",
       "\n",
       "[Mission 5 - Élaborer et mettre en œuvre des politiques de prix et de remise]\n",
       "Mercury, messenger of the gods, doth bring the news,\n",
       "Of prices and remise, to make the commerce anew,\n",
       "He doth deliver the word, with a speed so great,\n",
       "And the directors of commerce, they doth celebrate.\n",
       "\n",
       "[Mission 6 - Gérer les ressources humaines et les compétences nécessaires pour atteindre les objectifs commerciaux]\n",
       "Apollo, god of the sun, doth shine his light,\n",
       "On the directors of commerce, to make them see what's right,\n",
       "With human resources, they doth make their stand,\n",
       "And the skills they doth bring, to the commerce grand.\n",
       "\n",
       "[Conclusion]\n",
       "#### 800 tokens generated in 34 seconds (22 tokens/sec) - GPU memory: 6.98 GB"
      ],
      "text/plain": [
       "<IPython.core.display.Markdown object>"
      ]
     },
     "execution_count": 10,
     "metadata": {},
     "output_type": "execute_result"
    }
   ],
   "source": [
    "generate_answer(\"Présente moi les missions de la direction commerciale du Crédit Mutuel à la manière d'un récit homérique\",  max_new_tokens=800)"
   ]
  },
  {
   "cell_type": "code",
   "execution_count": 11,
   "id": "0b4c7909-4994-417d-91dd-e0008549d252",
   "metadata": {
    "execution": {
     "iopub.execute_input": "2023-07-19T22:56:03.395395Z",
     "iopub.status.busy": "2023-07-19T22:56:03.394781Z",
     "iopub.status.idle": "2023-07-19T22:56:04.758768Z",
     "shell.execute_reply": "2023-07-19T22:56:04.758180Z",
     "shell.execute_reply.started": "2023-07-19T22:56:03.395366Z"
    },
    "tags": []
   },
   "outputs": [
    {
     "name": "stderr",
     "output_type": "stream",
     "text": [
      "Found cached dataset parquet (/models/huggingface/datasets/frenchtext___parquet/frenchtext--nlptextdoc-2023_05-creditmutuel-1698ce1d76ab5419/0.0.0/14a00e99c0d15a23649d0db8944380ac81082d4b021f398733dd84f3a6c569a7)\n"
     ]
    }
   ],
   "source": [
    "from datasets import load_dataset\n",
    "\n",
    "# Load dataset from the hub\n",
    "dataset = load_dataset(\"frenchtext/nlptextdoc-2023_05-creditmutuel\", split=\"train\")"
   ]
  },
  {
   "cell_type": "code",
   "execution_count": 14,
   "id": "921a8b3d-f3e9-4ad4-9a40-dc667de93d13",
   "metadata": {
    "execution": {
     "iopub.execute_input": "2023-07-19T22:59:33.348329Z",
     "iopub.status.busy": "2023-07-19T22:59:33.347742Z",
     "iopub.status.idle": "2023-07-19T22:59:33.352231Z",
     "shell.execute_reply": "2023-07-19T22:59:33.351565Z",
     "shell.execute_reply.started": "2023-07-19T22:59:33.348309Z"
    },
    "tags": []
   },
   "outputs": [
    {
     "data": {
      "text/plain": [
       "'******\\nCrédit Mutuel - Charte\\n======\\n\\n# Charte de sécurité et gestion des données personnelles\\n\\nDans un contexte de transformation numérique, la protection des données personnelles est un enjeu crucial. Les banques, par la nature et le volume de données qu’elles traitent, sont particulièrement concernées. Le Crédit Mutuel, fidèle à ses valeurs, s’engage en faveur d’un environnement digital plus sûr et plus éthique. Afin de fournir des prestations et des services pertinents et efficaces à ses clients, le Crédit Mutuel doit bien les connaître et nécessairement collecter et traiter leurs données. Ces informations sont utilisées dans l’intérêt du client. Elles serviront à lui apporter un accompagnement et des offres de grande qualité adaptées à ses besoins. Avec cette charte, le Crédit Mutuel prend des engagements concrets sur la protection des données de ses clients-sociétaires et sur le respect de leur vie privée, selon la règlementation en vigueur. Mais le Groupe entend également être un acteur de référence en termes d’éthique, de transparence et de sécurité numérique.\\n\\n# Bien vous connaître pour bien vous conseiller\\n\\nPour simplifier, accélérer, personnaliser les services de votre Conseiller et de votre Banque, votre confiance et la connaissance que nous avons de votre situation sont indispensables. En disposant de coordonnées précises, actualisées et authentifiées nous serons ainsi mieux à même de vous joindre rapidement en cas de soupçon de fraude aux moyens de paiements ou simplement pour vous apporter l’assistance d’un expert à l’occasion d’une souscription ou de la préparation d’un projet.\\n\\nTenir compte de l’évolution de votre situation familiale, professionnelle et de votre environnement est la meilleure garantie pour pouvoir vous apporter un conseil de qualité, vous accompagner, vous protéger, et dans de nombreux domaines, c’est une obligation.\\n\\nVotre collaboration dans l’actualisation de ces données est la meilleure garantie d’un service que nous souhaitons toujours plus réactif, personnalisé et proche… même à distance.\\n\\n# Communiquer sur le traitement de vos données\\n\\nPour vous servir, nous collectons et traitons vos données personnelles de manière loyale et transparente. La communication sur la traçabilité de nos actions dans le traitement de vos données personnelles est une priorité, et nous nous engageons à vous informer de manière claire et précise sur l’utilisation de celles-ci.\\n\\n# Assurer la protection et l’intégrité de vos données\\n\\nParce que la confidentialité et l’intégrité des données personnelles sont essentielles pour conserver votre confiance, nous veillons à leur sécurité.\\n\\nNous avons donc mis en place des procédures de vérification et de certification de nos outils, destinées à protéger l’ensemble de vos données contre toute utilisation malveillante. La sécurité informatique étant au cœur de notre métier, nos équipes de spécialistes sont continuellement mobilisées pour assurer une protection maximale de vos données, et cela dans toutes les branches de nos activités.\\n\\n# Utiliser vos données dans votre intérêt\\n\\nLes informations personnelles que nous détenons sont utilisées afin de vous fournir les services et conseils les plus pertinents. Ces informations sont confidentielles et ne sont en aucun cas vendues à une entreprise tierce. La transmission éventuelle de certaines données personnelles à des prestataires extérieurs au Groupe est toujours effectuée dans un cadre strictement défini, pour une durée limitée et auprès de fournisseurs de confiance.\\n\\n# Vous permettre de garder le contrôle sur vos données\\n\\nVotre Conseiller est le premier garant du contrôle que vous pouvez exercer sur vos données. Vous bénéficiez d’un droit d’accès à vos données personnelles et d’opposition au traitement dans certains cas. Lors de la consultation de nos sites internet, une information complète sur notre politique de cookies vous est délivrée. Les données relatives à la santé, recueillies dans le cadre de souscriptions de contrats d’assurances bénéficient d’une protection renforcée.\\n\\nNous nous engageons à aller plus loin et à mettre prochainement à votre disposition davantage d’informations vous concernant, dans votre espace personnel. Vous pourrez, à tout moment, y accéder et en demander l’actualisation, le cas échéant.\\n\\n# Lexique\\n\\n## Donnée à caractère personnel ( DCP ) article\\xa04 du Règlement Européen sur la Protection des Données Personnelles\\xa0:\\n\\n«\\xa0Toute information se rapportant à une personne physique identifiée ou identifiable\\xa0: est réputée être une « personne physique identifiable » une personne physique qui peut être identifiée, directement ou indirectement, notamment par référence à un identifiant, tel qu’un nom, un numéro d’identification, des données de localisation, un identifiant en ligne, ou à un ou plusieurs éléments spécifiques propres à son identité physique, physiologique, génétique, psychique, économique, culturelle ou sociale\\xa0».\\n\\n## Système d’Information ( SI )\\xa0:\\n\\n«\\xa0Le système d’information ( SI ) est un ensemble organisé de ressources qui permet de collecter, stocker, traiter et distribuer de l’information, en général grâce à un ordinateur\\xa0».\\n\\n## Utilisateur du SI :\\n\\n«\\xa0Les utilisateurs du SI sont les personnes qui bénéficient des ressources et des habilitations nécessaires à l’accès au Système d’Information\\xa0».\\n\\n'"
      ]
     },
     "execution_count": 14,
     "metadata": {},
     "output_type": "execute_result"
    }
   ],
   "source": [
    "doc = dataset[3][\"Text\"]\n",
    "doc"
   ]
  },
  {
   "cell_type": "code",
   "execution_count": 15,
   "id": "33553d38-e233-4bb8-809e-d1d16990d1d7",
   "metadata": {
    "execution": {
     "iopub.execute_input": "2023-07-19T22:59:43.890897Z",
     "iopub.status.busy": "2023-07-19T22:59:43.890634Z",
     "iopub.status.idle": "2023-07-19T23:00:01.093954Z",
     "shell.execute_reply": "2023-07-19T23:00:01.093146Z",
     "shell.execute_reply.started": "2023-07-19T22:59:43.890880Z"
    },
    "tags": []
   },
   "outputs": [
    {
     "data": {
      "text/markdown": [
       "### Question\n",
       "Rédige dix questions qui pourraient être posées sur le paragraphe suivant:\n",
       "\n",
       "## PARAGRAPHE\n",
       "******\n",
       "Crédit Mutuel - Charte\n",
       "======\n",
       "\n",
       "# Charte de sécurité et gestion des données personnelles\n",
       "\n",
       "Dans un contexte de transformation numérique, la protection des données personnelles est un enjeu crucial. Les banques, par la nature et le volume de données qu’elles traitent, sont particulièrement concernées. Le Crédit Mutuel, fidèle à ses valeurs, s’engage en faveur d’un environnement digital plus sûr et plus éthique. Afin de fournir des prestations et des services pertinents et efficaces à ses clients, le Crédit Mutuel doit bien les connaître et nécessairement collecter et traiter leurs données. Ces informations sont utilisées dans l’intérêt du client. Elles serviront à lui apporter un accompagnement et des offres de grande qualité adaptées à ses besoins. Avec cette charte, le Crédit Mutuel prend des engagements concrets sur la protection des données de ses clients-sociétaires et sur le respect de leur vie privée, selon la règlementation en vigueur. Mais le Groupe entend également être un acteur de référence en termes d’éthique, de transparence et de sécurité numérique.\n",
       "\n",
       "# Bien vous connaître pour bien vous conseiller\n",
       "\n",
       "Pour simplifier, accélérer, personnaliser les services de votre Conseiller et de votre Banque, votre confiance et la connaissance que nous avons de votre situation sont indispensables. En disposant de coordonnées précises, actualisées et authentifiées nous serons ainsi mieux à même de vous joindre rapidement en cas de soupçon de fraude aux moyens de paiements ou simplement pour vous apporter l’assistance d’un expert à l’occasion d’une souscription ou de la préparation d’un projet.\n",
       "\n",
       "Tenir compte de l’évolution de votre situation familiale, professionnelle et de votre environnement est la meilleure garantie pour pouvoir vous apporter un conseil de qualité, vous accompagner, vous protéger, et dans de nombreux domaines, c’est une obligation.\n",
       "\n",
       "Votre collaboration dans l’actualisation de ces données est la meilleure garantie d’un service que nous souhaitons toujours plus réactif, personnalisé et proche… même à distance.\n",
       "\n",
       "# Communiquer sur le traitement de vos données\n",
       "\n",
       "Pour vous servir, nous collectons et traitons vos données personnelles de manière loyale et transparente. La communication sur la traçabilité de nos actions dans le traitement de vos données personnelles est une priorité, et nous nous engageons à vous informer de manière claire et précise sur l’utilisation de celles-ci.\n",
       "\n",
       "# Assurer la protection et l’intégrité de vos données\n",
       "\n",
       "Parce que la confidentialité et l’intégrité des données personnelles sont essentielles pour conserver votre confiance, nous veillons à leur sécurité.\n",
       "\n",
       "Nous avons donc mis en place des procédures de vérification et de certification de nos outils, destinées à protéger l’ensemble de vos données contre toute utilisation malveillante. La sécurité informatique étant au cœur de notre métier, nos équipes de spécialistes sont continuellement mobilisées pour assurer une protection maximale de vos données, et cela dans toutes les branches de nos activités.\n",
       "\n",
       "# Utiliser vos données dans votre intérêt\n",
       "\n",
       "Les informations personnelles que nous détenons sont utilisées afin de vous fournir les services et conseils les plus pertinents. Ces informations sont confidentielles et ne sont en aucun cas vendues à une entreprise tierce. La transmission éventuelle de certaines données personnelles à des prestataires extérieurs au Groupe est toujours effectuée dans un cadre strictement défini, pour une durée limitée et auprès de fournisseurs de confiance.\n",
       "\n",
       "# Vous permettre de garder le contrôle sur vos données\n",
       "\n",
       "Votre Conseiller est le premier garant du contrôle que vous pouvez exercer sur vos données. Vous bénéficiez d’un droit d’accès à vos données personnelles et d’opposition au traitement dans certains cas. Lors de la consultation de nos sites internet, une information complète sur notre politique de cookies vous est délivrée. Les données relatives à la santé, recueillies dans le cadre de souscriptions de contrats d’assurances bénéficient d’une protection renforcée.\n",
       "\n",
       "Nous nous engageons à aller plus loin et à mettre prochainement à votre disposition davantage d’informations vous concernant, dans votre espace personnel. Vous pourrez, à tout moment, y accéder et en demander l’actualisation, le cas échéant.\n",
       "\n",
       "# Lexique\n",
       "\n",
       "## Donnée à caractère personnel ( DCP ) article 4 du Règlement Européen sur la Protection des Données Personnelles :\n",
       "\n",
       "« Toute information se rapportant à une personne physique identifiée ou identifiable : est réputée être une « personne physique identifiable » une personne physique qui peut être identifiée, directement ou indirectement, notamment par référence à un identifiant, tel qu’un nom, un numéro d’identification, des données de localisation, un identifiant en ligne, ou à un ou plusieurs éléments spécifiques propres à son identité physique, physiologique, génétique, psychique, économique, culturelle ou sociale ».\n",
       "\n",
       "## Système d’Information ( SI ) :\n",
       "\n",
       "« Le système d’information ( SI ) est un ensemble organisé de ressources qui permet de collecter, stocker, traiter et distribuer de l’information, en général grâce à un ordinateur ».\n",
       "\n",
       "## Utilisateur du SI :\n",
       "\n",
       "« Les utilisateurs du SI sont les personnes qui bénéficient des ressources et des habilitations nécessaires à l’accès au Système d’Information ».\n",
       "\n",
       "\n",
       "\n",
       "\n",
       "### Réponse\n",
       "\n",
       "1. Quels sont les types de données personnelles que le Crédit Mutuel peut collecter et traiter ?\n",
       "2. Quels sont les objectifs de collecte et de traitement des données personnelles par le Crédit Mutuel ?\n",
       "3. Comment le Crédit Mutuel garantit-il la sécurité et l'intégrité des données personnelles ?\n",
       "4. Quels sont les droits que les clients-sociétaires ont sur leurs données personnelles ?\n",
       "5. Comment le Crédit Mutuel informe-t-il ses clients-sociétaires sur le traitement de leurs données personnelles ?\n",
       "6. Quels sont les cas d'utilisation du traitement des données personnelles par le Crédit Mutuel ?\n",
       "7. Quel est le système d'information utilisé par le Crédit Mutuel ?\n",
       "8. Quels sont les utilisateurs du système d'information du Crédit Mutuel ?\n",
       "9. Comment le Crédit Mutuel protège-t-il les données personnelles des clients-sociétaires ?\n",
       "10. Quels sont les éléments spécifiques propres à l'identité physique, physiologique, génétique, psychique, économique, culturelle ou sociale des clients-sociétaires collectés et traités par le Crédit Mutuel ?</s>\n",
       "#### 295 tokens generated in 17 seconds (17 tokens/sec) - GPU memory: 7.99 GB"
      ],
      "text/plain": [
       "<IPython.core.display.Markdown object>"
      ]
     },
     "execution_count": 15,
     "metadata": {},
     "output_type": "execute_result"
    }
   ],
   "source": [
    "generate_answer(\"Rédige dix questions qui pourraient être posées sur le paragraphe suivant:\\n\\n## PARAGRAPHE\\n\" + doc + \"\\n\\n\",  max_new_tokens=800)"
   ]
  },
  {
   "cell_type": "code",
   "execution_count": 17,
   "id": "dfe9d943-af11-4f1d-8fee-6289cf26022f",
   "metadata": {
    "execution": {
     "iopub.execute_input": "2023-07-19T23:04:40.757085Z",
     "iopub.status.busy": "2023-07-19T23:04:40.756846Z",
     "iopub.status.idle": "2023-07-19T23:05:07.650682Z",
     "shell.execute_reply": "2023-07-19T23:05:07.649791Z",
     "shell.execute_reply.started": "2023-07-19T23:04:40.757069Z"
    },
    "tags": []
   },
   "outputs": [
    {
     "data": {
      "text/markdown": [
       "### Question\n",
       "Réponds à la question suivante en utilisant les informations du paragraphe qui suit:\n",
       "\n",
       "## QUESTION\n",
       "Quels sont les types de données personnelles que le Crédit Mutuel peut collecter et traiter ?\n",
       "\n",
       "## PARAGRAPHE\n",
       "******\n",
       "Crédit Mutuel - Charte\n",
       "======\n",
       "\n",
       "# Charte de sécurité et gestion des données personnelles\n",
       "\n",
       "Dans un contexte de transformation numérique, la protection des données personnelles est un enjeu crucial. Les banques, par la nature et le volume de données qu’elles traitent, sont particulièrement concernées. Le Crédit Mutuel, fidèle à ses valeurs, s’engage en faveur d’un environnement digital plus sûr et plus éthique. Afin de fournir des prestations et des services pertinents et efficaces à ses clients, le Crédit Mutuel doit bien les connaître et nécessairement collecter et traiter leurs données. Ces informations sont utilisées dans l’intérêt du client. Elles serviront à lui apporter un accompagnement et des offres de grande qualité adaptées à ses besoins. Avec cette charte, le Crédit Mutuel prend des engagements concrets sur la protection des données de ses clients-sociétaires et sur le respect de leur vie privée, selon la règlementation en vigueur. Mais le Groupe entend également être un acteur de référence en termes d’éthique, de transparence et de sécurité numérique.\n",
       "\n",
       "# Bien vous connaître pour bien vous conseiller\n",
       "\n",
       "Pour simplifier, accélérer, personnaliser les services de votre Conseiller et de votre Banque, votre confiance et la connaissance que nous avons de votre situation sont indispensables. En disposant de coordonnées précises, actualisées et authentifiées nous serons ainsi mieux à même de vous joindre rapidement en cas de soupçon de fraude aux moyens de paiements ou simplement pour vous apporter l’assistance d’un expert à l’occasion d’une souscription ou de la préparation d’un projet.\n",
       "\n",
       "Tenir compte de l’évolution de votre situation familiale, professionnelle et de votre environnement est la meilleure garantie pour pouvoir vous apporter un conseil de qualité, vous accompagner, vous protéger, et dans de nombreux domaines, c’est une obligation.\n",
       "\n",
       "Votre collaboration dans l’actualisation de ces données est la meilleure garantie d’un service que nous souhaitons toujours plus réactif, personnalisé et proche… même à distance.\n",
       "\n",
       "# Communiquer sur le traitement de vos données\n",
       "\n",
       "Pour vous servir, nous collectons et traitons vos données personnelles de manière loyale et transparente. La communication sur la traçabilité de nos actions dans le traitement de vos données personnelles est une priorité, et nous nous engageons à vous informer de manière claire et précise sur l’utilisation de celles-ci.\n",
       "\n",
       "# Assurer la protection et l’intégrité de vos données\n",
       "\n",
       "Parce que la confidentialité et l’intégrité des données personnelles sont essentielles pour conserver votre confiance, nous veillons à leur sécurité.\n",
       "\n",
       "Nous avons donc mis en place des procédures de vérification et de certification de nos outils, destinées à protéger l’ensemble de vos données contre toute utilisation malveillante. La sécurité informatique étant au cœur de notre métier, nos équipes de spécialistes sont continuellement mobilisées pour assurer une protection maximale de vos données, et cela dans toutes les branches de nos activités.\n",
       "\n",
       "# Utiliser vos données dans votre intérêt\n",
       "\n",
       "Les informations personnelles que nous détenons sont utilisées afin de vous fournir les services et conseils les plus pertinents. Ces informations sont confidentielles et ne sont en aucun cas vendues à une entreprise tierce. La transmission éventuelle de certaines données personnelles à des prestataires extérieurs au Groupe est toujours effectuée dans un cadre strictement défini, pour une durée limitée et auprès de fournisseurs de confiance.\n",
       "\n",
       "# Vous permettre de garder le contrôle sur vos données\n",
       "\n",
       "Votre Conseiller est le premier garant du contrôle que vous pouvez exercer sur vos données. Vous bénéficiez d’un droit d’accès à vos données personnelles et d’opposition au traitement dans certains cas. Lors de la consultation de nos sites internet, une information complète sur notre politique de cookies vous est délivrée. Les données relatives à la santé, recueillies dans le cadre de souscriptions de contrats d’assurances bénéficient d’une protection renforcée.\n",
       "\n",
       "Nous nous engageons à aller plus loin et à mettre prochainement à votre disposition davantage d’informations vous concernant, dans votre espace personnel. Vous pourrez, à tout moment, y accéder et en demander l’actualisation, le cas échéant.\n",
       "\n",
       "# Lexique\n",
       "\n",
       "## Donnée à caractère personnel ( DCP ) article 4 du Règlement Européen sur la Protection des Données Personnelles :\n",
       "\n",
       "« Toute information se rapportant à une personne physique identifiée ou identifiable : est réputée être une « personne physique identifiable » une personne physique qui peut être identifiée, directement ou indirectement, notamment par référence à un identifiant, tel qu’un nom, un numéro d’identification, des données de localisation, un identifiant en ligne, ou à un ou plusieurs éléments spécifiques propres à son identité physique, physiologique, génétique, psychique, économique, culturelle ou sociale ».\n",
       "\n",
       "## Système d’Information ( SI ) :\n",
       "\n",
       "« Le système d’information ( SI ) est un ensemble organisé de ressources qui permet de collecter, stocker, traiter et distribuer de l’information, en général grâce à un ordinateur ».\n",
       "\n",
       "## Utilisateur du SI :\n",
       "\n",
       "« Les utilisateurs du SI sont les personnes qui bénéficient des ressources et des habilitations nécessaires à l’accès au Système d’Information ».\n",
       "\n",
       "\n",
       "\n",
       "\n",
       "### Réponse\n",
       "\n",
       "Bien sûr ! Voici les types de données personnelles que le Crédit Mutuel peut collecter et traiter, en accord avec la charte de sécurité et de gestion des données personnelles qu'il a établie :\n",
       "\n",
       "1. Les informations personnelles telles que le nom, l'adresse, le numéro de téléphone, l'adresse e-mail, etc. ;\n",
       "2. Les coordonnées bancaires telles que les comptes bancaires, les cartes de crédit, les chèques, etc. ;\n",
       "3. Les données de localisation telles que l'adresse de l'utilisateur, le numéro de téléphone portable, etc. ;\n",
       "4. Les données de santé telles que les maladies, les médicaments, les consultations médicales, etc. ;\n",
       "5. Les données de professionnels de santé telles que les médecins, les dentistes, les infirmiers, etc. ;\n",
       "6. Les données de vie professionnelle telles que les entreprises où l'utilisateur travaille ou a travaillé, les responsabilités, les rémunérations, etc. ;\n",
       "7. Les données de vie personnelle telles que les loisirs, les centres de vie, les associations, les clubs, etc. ;\n",
       "8. Les données de communication telles que les messages de messagerie, les conversations, les e-mails, etc. ;\n",
       "9. Les données de navigation telles que les adresses IP, les historiques de navigation, les recherches, etc. ;\n",
       "10. Les données de sécurité telles que les mots de passe, les informations de sécurité, les données de connexion, etc.\n",
       "\n",
       "Le Crédit Mutuel peut utiliser ces données personnelles pour fournir des services et des conseils personnalisés à ses clients, mais également pour prévenir et réprimer les fraudes et les violations de la réglementation bancaire. Il est important de noter que le Crédit Mutuel respecte la vie privée de ses clients et ne vend pas leurs données personnelles à des entreprises tierces.</s>\n",
       "#### 486 tokens generated in 26 seconds (18 tokens/sec) - GPU memory: 7.99 GB"
      ],
      "text/plain": [
       "<IPython.core.display.Markdown object>"
      ]
     },
     "execution_count": 17,
     "metadata": {},
     "output_type": "execute_result"
    }
   ],
   "source": [
    "generate_answer(\"Réponds à la question suivante en utilisant les informations du paragraphe qui suit:\\n\\n## QUESTION\\nQuels sont les types de données personnelles que le Crédit Mutuel peut collecter et traiter ?\\n\\n## PARAGRAPHE\\n\" + doc + \"\\n\\n\",  max_new_tokens=800)"
   ]
  },
  {
   "cell_type": "code",
   "execution_count": null,
   "id": "01275871-bc03-4cc4-abd2-8fbc724d8fee",
   "metadata": {},
   "outputs": [],
   "source": []
  }
 ],
 "metadata": {
  "kernelspec": {
   "display_name": "llama2",
   "language": "python",
   "name": "llama2"
  },
  "language_info": {
   "codemirror_mode": {
    "name": "ipython",
    "version": 3
   },
   "file_extension": ".py",
   "mimetype": "text/x-python",
   "name": "python",
   "nbconvert_exporter": "python",
   "pygments_lexer": "ipython3",
   "version": "3.10.6"
  }
 },
 "nbformat": 4,
 "nbformat_minor": 5
}
