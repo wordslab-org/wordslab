{
 "cells": [
  {
   "cell_type": "markdown",
   "id": "97e85720-94ab-468a-a095-29984226d6dc",
   "metadata": {},
   "source": [
    "# Create a training & validation dataset"
   ]
  },
  {
   "cell_type": "code",
   "execution_count": 2,
   "id": "de7e09bd-27d5-454c-9c1e-6573ccaa398d",
   "metadata": {
    "execution": {
     "iopub.execute_input": "2023-07-19T21:27:22.335080Z",
     "iopub.status.busy": "2023-07-19T21:27:22.334756Z",
     "iopub.status.idle": "2023-07-19T21:27:31.423584Z",
     "shell.execute_reply": "2023-07-19T21:27:31.422504Z",
     "shell.execute_reply.started": "2023-07-19T21:27:22.335041Z"
    },
    "tags": []
   },
   "outputs": [
    {
     "data": {
      "application/vnd.jupyter.widget-view+json": {
       "model_id": "7617a458683b43e9b0b2c0d51ef616ec",
       "version_major": 2,
       "version_minor": 0
      },
      "text/plain": [
       "Downloading readme:   0%|          | 0.00/383 [00:00<?, ?B/s]"
      ]
     },
     "metadata": {},
     "output_type": "display_data"
    },
    {
     "name": "stdout",
     "output_type": "stream",
     "text": [
      "Downloading and preparing dataset None/None to /models/huggingface/datasets/frenchtext___parquet/frenchtext--nlptextdoc-2023_05-creditmutuel-1698ce1d76ab5419/0.0.0/14a00e99c0d15a23649d0db8944380ac81082d4b021f398733dd84f3a6c569a7...\n"
     ]
    },
    {
     "data": {
      "application/vnd.jupyter.widget-view+json": {
       "model_id": "bf0d30341a34495f9810b5c809a87e53",
       "version_major": 2,
       "version_minor": 0
      },
      "text/plain": [
       "Downloading data files:   0%|          | 0/1 [00:00<?, ?it/s]"
      ]
     },
     "metadata": {},
     "output_type": "display_data"
    },
    {
     "data": {
      "application/vnd.jupyter.widget-view+json": {
       "model_id": "71b6bbd5ea0f4ef6b889d8a63f80dd55",
       "version_major": 2,
       "version_minor": 0
      },
      "text/plain": [
       "Downloading data:   0%|          | 0.00/135M [00:00<?, ?B/s]"
      ]
     },
     "metadata": {},
     "output_type": "display_data"
    },
    {
     "data": {
      "application/vnd.jupyter.widget-view+json": {
       "model_id": "55f4ea27788c49229f8c6ed9eb72f934",
       "version_major": 2,
       "version_minor": 0
      },
      "text/plain": [
       "Extracting data files:   0%|          | 0/1 [00:00<?, ?it/s]"
      ]
     },
     "metadata": {},
     "output_type": "display_data"
    },
    {
     "data": {
      "application/vnd.jupyter.widget-view+json": {
       "model_id": "",
       "version_major": 2,
       "version_minor": 0
      },
      "text/plain": [
       "Generating train split:   0%|          | 0/34364 [00:00<?, ? examples/s]"
      ]
     },
     "metadata": {},
     "output_type": "display_data"
    },
    {
     "name": "stdout",
     "output_type": "stream",
     "text": [
      "Dataset parquet downloaded and prepared to /models/huggingface/datasets/frenchtext___parquet/frenchtext--nlptextdoc-2023_05-creditmutuel-1698ce1d76ab5419/0.0.0/14a00e99c0d15a23649d0db8944380ac81082d4b021f398733dd84f3a6c569a7. Subsequent calls will reuse this data.\n"
     ]
    }
   ],
   "source": [
    "from datasets import load_dataset\n",
    "\n",
    "# Load dataset from the hub\n",
    "dataset = load_dataset(\"frenchtext/nlptextdoc-2023_05-creditmutuel\", split=\"train\")"
   ]
  },
  {
   "cell_type": "code",
   "execution_count": 3,
   "id": "f9c66f34-b9c5-4d78-932d-719d8d8568af",
   "metadata": {
    "execution": {
     "iopub.execute_input": "2023-07-19T21:28:54.040681Z",
     "iopub.status.busy": "2023-07-19T21:28:54.039973Z",
     "iopub.status.idle": "2023-07-19T21:28:54.046527Z",
     "shell.execute_reply": "2023-07-19T21:28:54.045715Z",
     "shell.execute_reply.started": "2023-07-19T21:28:54.040646Z"
    },
    "tags": []
   },
   "outputs": [
    {
     "data": {
      "text/plain": [
       "Dataset({\n",
       "    features: ['SiteIndex', 'DocId', 'Url', 'Text', 'Words', 'Lang'],\n",
       "    num_rows: 34364\n",
       "})"
      ]
     },
     "execution_count": 3,
     "metadata": {},
     "output_type": "execute_result"
    }
   ],
   "source": [
    "dataset"
   ]
  },
  {
   "cell_type": "code",
   "execution_count": 5,
   "id": "7732fc8f-c4e1-4647-af42-9ad91b9e2460",
   "metadata": {
    "execution": {
     "iopub.execute_input": "2023-07-19T21:30:59.417961Z",
     "iopub.status.busy": "2023-07-19T21:30:59.417678Z",
     "iopub.status.idle": "2023-07-19T21:30:59.425393Z",
     "shell.execute_reply": "2023-07-19T21:30:59.424418Z",
     "shell.execute_reply.started": "2023-07-19T21:30:59.417944Z"
    },
    "tags": []
   },
   "outputs": [
    {
     "data": {
      "text/plain": [
       "'******\\nMentions légales - Crédit Mutuel\\n======\\n\\nDevenir client du Crédit Mutuel\\n\\n# Editeur\\n\\nConfédération Nationale du Crédit\\xa0Mutuel\\n\\n- Siège social\\xa0: 88-90 rue Cardinet 750017 Paris\\n- Téléphone\\xa0: 01\\xa044\\xa001\\xa010\\xa010\\n- Représentant légal\\xa0: M. Pierre-Edouard BATARD\\n- Directeur de la publication\\xa0: M. Pierre-Edouard BATARD\\n\\n# Hébergeur\\n\\n- Siège social\\xa0: 4 rue Frédéric-Guillaume Raiffeisen - 67000\\xa0Strasbourg\\n- Immatriculé au RCS Strasbourg B\\xa0312\\xa0730\\xa0674\\n- Téléphone\\xa0: 03\\xa088\\xa014\\xa088\\xa014\\n\\nCe service de communication audiovisuelle a fait l’objet d’une déclaration auprès du Parquet du Tribunal de Grande Instance de STRASBOURG le 08/02/1999 sous la référence L10 2547/99 et du Conseil Supérieur de l’Audiovisuel récépissé en date du 17/02/1999. Dans le cadre des présentes, les 15 groupes de Crédit\\xa0Mutuel commercialisant les produits Crédit\\xa0Mutuel, sont sans distinction dénommés ci-après «\\xa0le Crédit\\xa0Mutuel\\xa0».\\n\\nLe Crédit\\xa0Mutuel, banque coopérative, appartient à ses 8,6\\xa0millions de clients-sociétaires.\\n\\nCaisse Fédérale de Crédit\\xa0Mutuel et caisses affiliées, société coopérative à forme de société anonyme au capital de 5 458 531 008\\xa0€, 4 rue Frédéric-Guillaume Raiffeisen, 67000 Strasbourg, RCS Strasbourg B\\xa0588\\xa0505\\xa0354. Banques régies par les articles L.511-1 et suivants du code monétaire et financier. Pour les opérations effectuées en qualité d’intermédiaires en opérations d’assurances inscrits au registre national sous le numéro unique d’identification 07\\xa0003\\xa0758 (immatriculations consultables sous www.orias.fr ), contrats d’assurances de ACM VIE SA et ACM IARD SA , entreprises régies par le code des assurances et MTRL , Mutuelle Nationale relevant du Livre\\xa0II du code de la mutualité.\\n\\n'"
      ]
     },
     "execution_count": 5,
     "metadata": {},
     "output_type": "execute_result"
    }
   ],
   "source": [
    "dataset[0][\"Text\"]"
   ]
  },
  {
   "cell_type": "code",
   "execution_count": null,
   "id": "e862e856-4836-4ff2-bbf4-8b9113209e46",
   "metadata": {},
   "outputs": [],
   "source": [
    "from random import randint\n",
    "from itertools import chain\n",
    "from functools import partial\n",
    "\n",
    "\n",
    "# template dataset to add prompt to each sample\n",
    "def template_dataset(sample):\n",
    "    sample[\"text\"] = f\"{format_dolly(sample)}{tokenizer.eos_token}\"\n",
    "    return sample\n",
    "\n",
    "\n",
    "# apply prompt template per sample\n",
    "dataset = dataset.map(template_dataset, remove_columns=list(dataset.features))\n",
    "# print random sample\n",
    "print(dataset[randint(0, len(dataset))][\"text\"])\n",
    "\n",
    "# empty list to save remainder from batches to use in next batch\n",
    "remainder = {\"input_ids\": [], \"attention_mask\": [], \"token_type_ids\": []}\n",
    "\n",
    "def chunk(sample, chunk_length=2048):\n",
    "    # define global remainder variable to save remainder from batches to use in next batch\n",
    "    global remainder\n",
    "    # Concatenate all texts and add remainder from previous batch\n",
    "    concatenated_examples = {k: list(chain(*sample[k])) for k in sample.keys()}\n",
    "    concatenated_examples = {k: remainder[k] + concatenated_examples[k] for k in concatenated_examples.keys()}\n",
    "    # get total number of tokens for batch\n",
    "    batch_total_length = len(concatenated_examples[list(sample.keys())[0]])\n",
    "\n",
    "    # get max number of chunks for batch\n",
    "    if batch_total_length >= chunk_length:\n",
    "        batch_chunk_length = (batch_total_length // chunk_length) * chunk_length\n",
    "\n",
    "    # Split by chunks of max_len.\n",
    "    result = {\n",
    "        k: [t[i : i + chunk_length] for i in range(0, batch_chunk_length, chunk_length)]\n",
    "        for k, t in concatenated_examples.items()\n",
    "    }\n",
    "    # add remainder to global variable for next batch\n",
    "    remainder = {k: concatenated_examples[k][batch_chunk_length:] for k in concatenated_examples.keys()}\n",
    "    # prepare labels\n",
    "    result[\"labels\"] = result[\"input_ids\"].copy()\n",
    "    return result\n",
    "\n",
    "\n",
    "# tokenize and chunk dataset\n",
    "lm_dataset = dataset.map(\n",
    "    lambda sample: tokenizer(sample[\"text\"]), batched=True, remove_columns=list(dataset.features)\n",
    ").map(\n",
    "    partial(chunk, chunk_length=2048),\n",
    "    batched=True,\n",
    ")\n",
    "\n",
    "# Print total number of samples\n",
    "print(f\"Total number of samples: {len(lm_dataset)}\")"
   ]
  },
  {
   "cell_type": "code",
   "execution_count": null,
   "id": "af96bc57-a948-4b1b-aa45-e64921c7c942",
   "metadata": {},
   "outputs": [],
   "source": [
    "training_input_path = f's3://{sess.default_bucket()}/processed/llama/dolly/train'\n",
    "lm_dataset.save_to_disk(training_input_path)\n",
    "\n",
    "print(\"uploaded data to:\")\n",
    "print(f\"training dataset to: {training_input_path}\")"
   ]
  }
 ],
 "metadata": {
  "kernelspec": {
   "display_name": "llama2",
   "language": "python",
   "name": "llama2"
  },
  "language_info": {
   "codemirror_mode": {
    "name": "ipython",
    "version": 3
   },
   "file_extension": ".py",
   "mimetype": "text/x-python",
   "name": "python",
   "nbconvert_exporter": "python",
   "pygments_lexer": "ipython3",
   "version": "3.10.6"
  }
 },
 "nbformat": 4,
 "nbformat_minor": 5
}
